{
 "cells": [
  {
   "cell_type": "markdown",
   "metadata": {},
   "source": [
    "# Test: FileCalendar"
   ]
  },
  {
   "cell_type": "markdown",
   "metadata": {},
   "source": [
    "## Preamble"
   ]
  },
  {
   "cell_type": "code",
   "execution_count": null,
   "metadata": {},
   "outputs": [],
   "source": []
  },
  {
   "cell_type": "code",
   "execution_count": 1,
   "metadata": {},
   "outputs": [],
   "source": [
    "%load_ext autoreload\n",
    "%autoreload 2"
   ]
  },
  {
   "cell_type": "code",
   "execution_count": 2,
   "metadata": {},
   "outputs": [
    {
     "name": "stdout",
     "output_type": "stream",
     "text": [
      "2022-02-03 15:07:16,278 INFO sqlalchemy.engine.Engine BEGIN (implicit)\n",
      "2022-02-03 15:07:16,278 INFO sqlalchemy.engine.Engine PRAGMA main.table_info(\"address\")\n",
      "2022-02-03 15:07:16,279 INFO sqlalchemy.engine.Engine [raw sql] ()\n",
      "2022-02-03 15:07:16,279 INFO sqlalchemy.engine.Engine PRAGMA main.table_info(\"user\")\n",
      "2022-02-03 15:07:16,279 INFO sqlalchemy.engine.Engine [raw sql] ()\n",
      "2022-02-03 15:07:16,280 INFO sqlalchemy.engine.Engine PRAGMA main.table_info(\"icloudaccount\")\n",
      "2022-02-03 15:07:16,280 INFO sqlalchemy.engine.Engine [raw sql] ()\n",
      "2022-02-03 15:07:16,280 INFO sqlalchemy.engine.Engine PRAGMA main.table_info(\"googleaccount\")\n",
      "2022-02-03 15:07:16,280 INFO sqlalchemy.engine.Engine [raw sql] ()\n",
      "2022-02-03 15:07:16,281 INFO sqlalchemy.engine.Engine PRAGMA main.table_info(\"bank\")\n",
      "2022-02-03 15:07:16,281 INFO sqlalchemy.engine.Engine [raw sql] ()\n",
      "2022-02-03 15:07:16,281 INFO sqlalchemy.engine.Engine PRAGMA main.table_info(\"bankaccount\")\n",
      "2022-02-03 15:07:16,281 INFO sqlalchemy.engine.Engine [raw sql] ()\n",
      "2022-02-03 15:07:16,282 INFO sqlalchemy.engine.Engine PRAGMA main.table_info(\"contact\")\n",
      "2022-02-03 15:07:16,282 INFO sqlalchemy.engine.Engine [raw sql] ()\n",
      "2022-02-03 15:07:16,282 INFO sqlalchemy.engine.Engine PRAGMA main.table_info(\"client\")\n",
      "2022-02-03 15:07:16,282 INFO sqlalchemy.engine.Engine [raw sql] ()\n",
      "2022-02-03 15:07:16,283 INFO sqlalchemy.engine.Engine PRAGMA main.table_info(\"contract\")\n",
      "2022-02-03 15:07:16,283 INFO sqlalchemy.engine.Engine [raw sql] ()\n",
      "2022-02-03 15:07:16,283 INFO sqlalchemy.engine.Engine PRAGMA main.table_info(\"project\")\n",
      "2022-02-03 15:07:16,284 INFO sqlalchemy.engine.Engine [raw sql] ()\n",
      "2022-02-03 15:07:16,284 INFO sqlalchemy.engine.Engine PRAGMA main.table_info(\"timetrackingitem\")\n",
      "2022-02-03 15:07:16,284 INFO sqlalchemy.engine.Engine [raw sql] ()\n",
      "2022-02-03 15:07:16,284 INFO sqlalchemy.engine.Engine PRAGMA main.table_info(\"timesheet\")\n",
      "2022-02-03 15:07:16,285 INFO sqlalchemy.engine.Engine [raw sql] ()\n",
      "2022-02-03 15:07:16,285 INFO sqlalchemy.engine.Engine PRAGMA main.table_info(\"invoice\")\n",
      "2022-02-03 15:07:16,285 INFO sqlalchemy.engine.Engine [raw sql] ()\n",
      "2022-02-03 15:07:16,286 INFO sqlalchemy.engine.Engine PRAGMA main.table_info(\"invoiceitem\")\n",
      "2022-02-03 15:07:16,286 INFO sqlalchemy.engine.Engine [raw sql] ()\n",
      "2022-02-03 15:07:16,286 INFO sqlalchemy.engine.Engine PRAGMA main.table_info(\"timelineitem\")\n",
      "2022-02-03 15:07:16,286 INFO sqlalchemy.engine.Engine [raw sql] ()\n",
      "2022-02-03 15:07:16,287 INFO sqlalchemy.engine.Engine COMMIT\n"
     ]
    }
   ],
   "source": [
    "from pathlib import Path\n",
    "\n",
    "import tuttle"
   ]
  },
  {
   "cell_type": "markdown",
   "metadata": {},
   "source": [
    "## Test"
   ]
  },
  {
   "cell_type": "markdown",
   "metadata": {},
   "source": []
  },
  {
   "cell_type": "code",
   "execution_count": 3,
   "metadata": {},
   "outputs": [],
   "source": [
    "timetracking_calendar_path = Path(\"../tuttle_tests/data/TuttleDemo-TimeTracking.ics\")\n",
    "cal = tuttle.calendar.FileCalendar(\n",
    "    path=timetracking_calendar_path, name=\"TimeTracking\"\n",
    ")"
   ]
  },
  {
   "cell_type": "code",
   "execution_count": 4,
   "metadata": {},
   "outputs": [
    {
     "data": {
      "text/plain": [
       "<tuttle.calendar.FileCalendar at 0x103d537f0>"
      ]
     },
     "execution_count": 4,
     "metadata": {},
     "output_type": "execute_result"
    }
   ],
   "source": [
    "cal"
   ]
  },
  {
   "cell_type": "code",
   "execution_count": 5,
   "metadata": {},
   "outputs": [],
   "source": [
    "cal_data = cal.to_data()"
   ]
  },
  {
   "cell_type": "code",
   "execution_count": 6,
   "metadata": {},
   "outputs": [
    {
     "data": {
      "text/plain": [
       "title                   object\n",
       "description             object\n",
       "end                     object\n",
       "duration       timedelta64[ns]\n",
       "tag                     object\n",
       "dtype: object"
      ]
     },
     "execution_count": 6,
     "metadata": {},
     "output_type": "execute_result"
    }
   ],
   "source": [
    "cal_data.dtypes"
   ]
  },
  {
   "cell_type": "code",
   "execution_count": 7,
   "metadata": {},
   "outputs": [
    {
     "data": {
      "text/plain": [
       "datetime.datetime(2022, 1, 14, 5, 0, tzinfo=tzfile('/usr/share/zoneinfo/Europe/Berlin'))"
      ]
     },
     "execution_count": 7,
     "metadata": {},
     "output_type": "execute_result"
    }
   ],
   "source": [
    "cal_data[\"end\"].iloc[0]"
   ]
  },
  {
   "cell_type": "code",
   "execution_count": 8,
   "metadata": {},
   "outputs": [
    {
     "data": {
      "text/plain": [
       "datetime.datetime"
      ]
     },
     "execution_count": 8,
     "metadata": {},
     "output_type": "execute_result"
    }
   ],
   "source": [
    "type(_)"
   ]
  },
  {
   "cell_type": "code",
   "execution_count": 9,
   "metadata": {},
   "outputs": [
    {
     "data": {
      "text/html": [
       "<div>\n",
       "<style scoped>\n",
       "    .dataframe tbody tr th:only-of-type {\n",
       "        vertical-align: middle;\n",
       "    }\n",
       "\n",
       "    .dataframe tbody tr th {\n",
       "        vertical-align: top;\n",
       "    }\n",
       "\n",
       "    .dataframe thead th {\n",
       "        text-align: right;\n",
       "    }\n",
       "</style>\n",
       "<table border=\"1\" class=\"dataframe\">\n",
       "  <thead>\n",
       "    <tr style=\"text-align: right;\">\n",
       "      <th></th>\n",
       "      <th>title</th>\n",
       "      <th>description</th>\n",
       "      <th>end</th>\n",
       "      <th>duration</th>\n",
       "      <th>tag</th>\n",
       "    </tr>\n",
       "    <tr>\n",
       "      <th>begin</th>\n",
       "      <th></th>\n",
       "      <th></th>\n",
       "      <th></th>\n",
       "      <th></th>\n",
       "      <th></th>\n",
       "    </tr>\n",
       "  </thead>\n",
       "  <tbody>\n",
       "    <tr>\n",
       "      <th>2022-01-13 19:00:00+01:00</th>\n",
       "      <td>#HeatingRepair</td>\n",
       "      <td>None</td>\n",
       "      <td>2022-01-14 05:00:00+01:00</td>\n",
       "      <td>0 days 10:00:00</td>\n",
       "      <td>#HeatingRepair</td>\n",
       "    </tr>\n",
       "    <tr>\n",
       "      <th>2022-01-24 19:00:00+01:00</th>\n",
       "      <td>#HeatingEngineering</td>\n",
       "      <td>None</td>\n",
       "      <td>2022-01-25 05:00:00+01:00</td>\n",
       "      <td>0 days 10:00:00</td>\n",
       "      <td>#HeatingEngineering</td>\n",
       "    </tr>\n",
       "    <tr>\n",
       "      <th>2022-01-27 19:00:00+01:00</th>\n",
       "      <td>#HeatingEngineering</td>\n",
       "      <td>None</td>\n",
       "      <td>2022-01-28 05:00:00+01:00</td>\n",
       "      <td>0 days 10:00:00</td>\n",
       "      <td>#HeatingEngineering</td>\n",
       "    </tr>\n",
       "    <tr>\n",
       "      <th>2022-01-25 19:00:00+01:00</th>\n",
       "      <td>#HeatingEngineering</td>\n",
       "      <td>None</td>\n",
       "      <td>2022-01-26 05:00:00+01:00</td>\n",
       "      <td>0 days 10:00:00</td>\n",
       "      <td>#HeatingEngineering</td>\n",
       "    </tr>\n",
       "    <tr>\n",
       "      <th>2022-01-03 18:00:00+01:00</th>\n",
       "      <td>#HeatingEngineering</td>\n",
       "      <td>None</td>\n",
       "      <td>2022-01-03 23:00:00+01:00</td>\n",
       "      <td>0 days 05:00:00</td>\n",
       "      <td>#HeatingEngineering</td>\n",
       "    </tr>\n",
       "    <tr>\n",
       "      <th>2022-01-07 19:00:00+01:00</th>\n",
       "      <td>#HeatingRepair</td>\n",
       "      <td>None</td>\n",
       "      <td>2022-01-08 05:00:00+01:00</td>\n",
       "      <td>0 days 10:00:00</td>\n",
       "      <td>#HeatingRepair</td>\n",
       "    </tr>\n",
       "    <tr>\n",
       "      <th>2022-01-19 08:15:00+00:00</th>\n",
       "      <td>#HeatingRepair</td>\n",
       "      <td>None</td>\n",
       "      <td>2022-01-19 18:15:00+00:00</td>\n",
       "      <td>0 days 10:00:00</td>\n",
       "      <td>#HeatingRepair</td>\n",
       "    </tr>\n",
       "    <tr>\n",
       "      <th>2022-02-01 19:00:00+01:00</th>\n",
       "      <td>#HeatingEngineering</td>\n",
       "      <td>None</td>\n",
       "      <td>2022-02-02 05:00:00+01:00</td>\n",
       "      <td>0 days 10:00:00</td>\n",
       "      <td>#HeatingEngineering</td>\n",
       "    </tr>\n",
       "    <tr>\n",
       "      <th>2022-01-05 13:00:00+01:00</th>\n",
       "      <td>#HeatingEngineering</td>\n",
       "      <td>None</td>\n",
       "      <td>2022-01-05 23:00:00+01:00</td>\n",
       "      <td>0 days 10:00:00</td>\n",
       "      <td>#HeatingEngineering</td>\n",
       "    </tr>\n",
       "    <tr>\n",
       "      <th>2022-01-14 19:00:00+01:00</th>\n",
       "      <td>#HeatingRepair</td>\n",
       "      <td>None</td>\n",
       "      <td>2022-01-15 05:00:00+01:00</td>\n",
       "      <td>0 days 10:00:00</td>\n",
       "      <td>#HeatingRepair</td>\n",
       "    </tr>\n",
       "    <tr>\n",
       "      <th>2022-01-20 08:15:00+00:00</th>\n",
       "      <td>#HeatingRepair</td>\n",
       "      <td>None</td>\n",
       "      <td>2022-01-20 18:15:00+00:00</td>\n",
       "      <td>0 days 10:00:00</td>\n",
       "      <td>#HeatingRepair</td>\n",
       "    </tr>\n",
       "    <tr>\n",
       "      <th>2022-01-11 19:00:00+01:00</th>\n",
       "      <td>#HeatingEngineering</td>\n",
       "      <td>None</td>\n",
       "      <td>2022-01-12 05:00:00+01:00</td>\n",
       "      <td>0 days 10:00:00</td>\n",
       "      <td>#HeatingEngineering</td>\n",
       "    </tr>\n",
       "    <tr>\n",
       "      <th>2022-01-17 19:00:00+01:00</th>\n",
       "      <td>#HeatingEngineering</td>\n",
       "      <td>None</td>\n",
       "      <td>2022-01-18 05:00:00+01:00</td>\n",
       "      <td>0 days 10:00:00</td>\n",
       "      <td>#HeatingEngineering</td>\n",
       "    </tr>\n",
       "    <tr>\n",
       "      <th>2022-01-21 19:00:00+01:00</th>\n",
       "      <td>#HeatingEngineering</td>\n",
       "      <td>None</td>\n",
       "      <td>2022-01-22 05:00:00+01:00</td>\n",
       "      <td>0 days 10:00:00</td>\n",
       "      <td>#HeatingEngineering</td>\n",
       "    </tr>\n",
       "    <tr>\n",
       "      <th>2022-01-06 09:00:00+01:00</th>\n",
       "      <td>#HeatingEngineering</td>\n",
       "      <td>None</td>\n",
       "      <td>2022-01-06 19:00:00+01:00</td>\n",
       "      <td>0 days 10:00:00</td>\n",
       "      <td>#HeatingEngineering</td>\n",
       "    </tr>\n",
       "    <tr>\n",
       "      <th>2022-01-18 08:00:00+00:00</th>\n",
       "      <td>#HeatingRepair</td>\n",
       "      <td>None</td>\n",
       "      <td>2022-01-18 18:00:00+00:00</td>\n",
       "      <td>0 days 10:00:00</td>\n",
       "      <td>#HeatingRepair</td>\n",
       "    </tr>\n",
       "    <tr>\n",
       "      <th>2022-01-04 13:00:00+01:00</th>\n",
       "      <td>#HeatingEngineering</td>\n",
       "      <td>None</td>\n",
       "      <td>2022-01-04 23:00:00+01:00</td>\n",
       "      <td>0 days 10:00:00</td>\n",
       "      <td>#HeatingEngineering</td>\n",
       "    </tr>\n",
       "  </tbody>\n",
       "</table>\n",
       "</div>"
      ],
      "text/plain": [
       "                                         title description  \\\n",
       "begin                                                        \n",
       "2022-01-13 19:00:00+01:00       #HeatingRepair        None   \n",
       "2022-01-24 19:00:00+01:00  #HeatingEngineering        None   \n",
       "2022-01-27 19:00:00+01:00  #HeatingEngineering        None   \n",
       "2022-01-25 19:00:00+01:00  #HeatingEngineering        None   \n",
       "2022-01-03 18:00:00+01:00  #HeatingEngineering        None   \n",
       "2022-01-07 19:00:00+01:00       #HeatingRepair        None   \n",
       "2022-01-19 08:15:00+00:00       #HeatingRepair        None   \n",
       "2022-02-01 19:00:00+01:00  #HeatingEngineering        None   \n",
       "2022-01-05 13:00:00+01:00  #HeatingEngineering        None   \n",
       "2022-01-14 19:00:00+01:00       #HeatingRepair        None   \n",
       "2022-01-20 08:15:00+00:00       #HeatingRepair        None   \n",
       "2022-01-11 19:00:00+01:00  #HeatingEngineering        None   \n",
       "2022-01-17 19:00:00+01:00  #HeatingEngineering        None   \n",
       "2022-01-21 19:00:00+01:00  #HeatingEngineering        None   \n",
       "2022-01-06 09:00:00+01:00  #HeatingEngineering        None   \n",
       "2022-01-18 08:00:00+00:00       #HeatingRepair        None   \n",
       "2022-01-04 13:00:00+01:00  #HeatingEngineering        None   \n",
       "\n",
       "                                                 end        duration  \\\n",
       "begin                                                                  \n",
       "2022-01-13 19:00:00+01:00  2022-01-14 05:00:00+01:00 0 days 10:00:00   \n",
       "2022-01-24 19:00:00+01:00  2022-01-25 05:00:00+01:00 0 days 10:00:00   \n",
       "2022-01-27 19:00:00+01:00  2022-01-28 05:00:00+01:00 0 days 10:00:00   \n",
       "2022-01-25 19:00:00+01:00  2022-01-26 05:00:00+01:00 0 days 10:00:00   \n",
       "2022-01-03 18:00:00+01:00  2022-01-03 23:00:00+01:00 0 days 05:00:00   \n",
       "2022-01-07 19:00:00+01:00  2022-01-08 05:00:00+01:00 0 days 10:00:00   \n",
       "2022-01-19 08:15:00+00:00  2022-01-19 18:15:00+00:00 0 days 10:00:00   \n",
       "2022-02-01 19:00:00+01:00  2022-02-02 05:00:00+01:00 0 days 10:00:00   \n",
       "2022-01-05 13:00:00+01:00  2022-01-05 23:00:00+01:00 0 days 10:00:00   \n",
       "2022-01-14 19:00:00+01:00  2022-01-15 05:00:00+01:00 0 days 10:00:00   \n",
       "2022-01-20 08:15:00+00:00  2022-01-20 18:15:00+00:00 0 days 10:00:00   \n",
       "2022-01-11 19:00:00+01:00  2022-01-12 05:00:00+01:00 0 days 10:00:00   \n",
       "2022-01-17 19:00:00+01:00  2022-01-18 05:00:00+01:00 0 days 10:00:00   \n",
       "2022-01-21 19:00:00+01:00  2022-01-22 05:00:00+01:00 0 days 10:00:00   \n",
       "2022-01-06 09:00:00+01:00  2022-01-06 19:00:00+01:00 0 days 10:00:00   \n",
       "2022-01-18 08:00:00+00:00  2022-01-18 18:00:00+00:00 0 days 10:00:00   \n",
       "2022-01-04 13:00:00+01:00  2022-01-04 23:00:00+01:00 0 days 10:00:00   \n",
       "\n",
       "                                           tag  \n",
       "begin                                           \n",
       "2022-01-13 19:00:00+01:00       #HeatingRepair  \n",
       "2022-01-24 19:00:00+01:00  #HeatingEngineering  \n",
       "2022-01-27 19:00:00+01:00  #HeatingEngineering  \n",
       "2022-01-25 19:00:00+01:00  #HeatingEngineering  \n",
       "2022-01-03 18:00:00+01:00  #HeatingEngineering  \n",
       "2022-01-07 19:00:00+01:00       #HeatingRepair  \n",
       "2022-01-19 08:15:00+00:00       #HeatingRepair  \n",
       "2022-02-01 19:00:00+01:00  #HeatingEngineering  \n",
       "2022-01-05 13:00:00+01:00  #HeatingEngineering  \n",
       "2022-01-14 19:00:00+01:00       #HeatingRepair  \n",
       "2022-01-20 08:15:00+00:00       #HeatingRepair  \n",
       "2022-01-11 19:00:00+01:00  #HeatingEngineering  \n",
       "2022-01-17 19:00:00+01:00  #HeatingEngineering  \n",
       "2022-01-21 19:00:00+01:00  #HeatingEngineering  \n",
       "2022-01-06 09:00:00+01:00  #HeatingEngineering  \n",
       "2022-01-18 08:00:00+00:00       #HeatingRepair  \n",
       "2022-01-04 13:00:00+01:00  #HeatingEngineering  "
      ]
     },
     "execution_count": 9,
     "metadata": {},
     "output_type": "execute_result"
    }
   ],
   "source": [
    "cal_data"
   ]
  },
  {
   "cell_type": "code",
   "execution_count": null,
   "metadata": {},
   "outputs": [],
   "source": []
  }
 ],
 "metadata": {
  "interpreter": {
   "hash": "1b2a14e316f8528313aca7083ad4a819e30957812d4a6b2b5fed00540ac717aa"
  },
  "kernelspec": {
   "display_name": "Python 3.9.7 64-bit ('tuttle': conda)",
   "language": "python",
   "name": "python3"
  },
  "language_info": {
   "codemirror_mode": {
    "name": "ipython",
    "version": 3
   },
   "file_extension": ".py",
   "mimetype": "text/x-python",
   "name": "python",
   "nbconvert_exporter": "python",
   "pygments_lexer": "ipython3",
   "version": "3.9.7"
  },
  "orig_nbformat": 4
 },
 "nbformat": 4,
 "nbformat_minor": 2
}
