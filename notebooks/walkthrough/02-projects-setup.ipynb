{
 "cells": [
  {
   "cell_type": "markdown",
   "id": "a26a64c7-f0be-41f6-af0e-ad3f36fc6a19",
   "metadata": {},
   "source": [
    "# Setup: Projects"
   ]
  },
  {
   "cell_type": "markdown",
   "id": "2619bc0e-7bdf-4c67-9900-b6ba53f980f4",
   "metadata": {},
   "source": [
    "As a freelancer, you work on _projects_: You agree with a _client_ to perform a certain amount of work. The terms of your work relationship, including terms of payment, are recorded in a _contract_.\n",
    "\n",
    "Let's setup at least one project."
   ]
  },
  {
   "cell_type": "markdown",
   "id": "a87a1adb-156b-4333-aa8e-3dfd2965b5a5",
   "metadata": {},
   "source": [
    "## Preamble"
   ]
  },
  {
   "cell_type": "code",
   "execution_count": 1,
   "id": "1b75bdaa-d216-444f-886e-97c0ed3e2635",
   "metadata": {},
   "outputs": [],
   "source": [
    "import datetime"
   ]
  },
  {
   "cell_type": "code",
   "execution_count": 2,
   "id": "8a25d62c-dd13-4a3e-ab2e-cfca49d6093b",
   "metadata": {},
   "outputs": [],
   "source": [
    "import tuttle"
   ]
  },
  {
   "cell_type": "code",
   "execution_count": 3,
   "id": "dfcfd023-8497-4b0f-b320-35137c511921",
   "metadata": {},
   "outputs": [],
   "source": [
    "controller = tuttle.controller.Controller(home_dir=\".demo_home\")"
   ]
  },
  {
   "cell_type": "markdown",
   "id": "066a9e23-63dc-4d29-89a9-307b057b5f38",
   "metadata": {},
   "source": [
    "### Setup: Clients"
   ]
  },
  {
   "cell_type": "markdown",
   "id": "adcd2838-2571-4857-bc4e-26bc53ff641b",
   "metadata": {},
   "source": [
    "The `Client` is the person or business you are working for in the course of a project."
   ]
  },
  {
   "cell_type": "code",
   "execution_count": 4,
   "id": "c083a622-d852-49e4-a5fb-6e1945f1283f",
   "metadata": {},
   "outputs": [],
   "source": [
    "from tuttle.model import Client, Contact, Address"
   ]
  },
  {
   "cell_type": "markdown",
   "id": "a4e2b393-1934-4788-9cfc-64921abc2996",
   "metadata": {},
   "source": [
    "**Example Client**"
   ]
  },
  {
   "cell_type": "code",
   "execution_count": 5,
   "id": "3c402795-69bc-4fc1-acd1-9185a74801e3",
   "metadata": {},
   "outputs": [],
   "source": [
    "sam = Client(\n",
    "    name=\"Sam Lowry\",\n",
    "    invoicing_contact=Contact(\n",
    "        name=\"Sam Lowry\",\n",
    "        e_mail=\"mail@lowry.com\",\n",
    "        address=Address(\n",
    "            street=\"Main Street\",\n",
    "            number=\"9999\",\n",
    "            postal_code=\"55555\",\n",
    "            city=\"Sao Paolo\",\n",
    "            country=\"Brazil\",\n",
    "        ),\n",
    "    ),\n",
    ")"
   ]
  },
  {
   "cell_type": "markdown",
   "id": "c90ca050-5b11-4a3c-b2c1-ddfb515e2d6f",
   "metadata": {
    "tags": []
   },
   "source": [
    "_Your turn: Enter and store the data for at least one of your clients._"
   ]
  },
  {
   "cell_type": "code",
   "execution_count": null,
   "id": "765356e2-b6b7-4946-9444-bb3805a96f5c",
   "metadata": {},
   "outputs": [],
   "source": []
  },
  {
   "cell_type": "markdown",
   "id": "cf08431d-00f2-4f00-a838-18907043c37d",
   "metadata": {},
   "source": [
    "## Setup: Contracts"
   ]
  },
  {
   "cell_type": "markdown",
   "id": "886cba6c-d1e0-408b-a4e9-8fc9521788db",
   "metadata": {},
   "source": [
    "When you agree with a client on the business terms of a project, you record them in a contract signed by both parties. In `tuttle`, this is what the `Contract` object is for."
   ]
  },
  {
   "cell_type": "code",
   "execution_count": 6,
   "id": "ab802f4e-357a-4620-bba7-1d963df11a75",
   "metadata": {},
   "outputs": [],
   "source": [
    "from tuttle.model import Contract"
   ]
  },
  {
   "cell_type": "markdown",
   "id": "8b6db6f4-224e-4be7-b6f4-3d6a14487ce9",
   "metadata": {},
   "source": [
    "**Example Contracts**"
   ]
  },
  {
   "cell_type": "code",
   "execution_count": 7,
   "id": "3f99d608-882a-4778-a45c-e7675aa06f2d",
   "metadata": {},
   "outputs": [],
   "source": [
    "heating_repair_contract = Contract(\n",
    "    title=\"Heating Repair Contract\",\n",
    "    client=sam,\n",
    "    rate=50.00,\n",
    "    currency=\"EUR\",\n",
    "    unit=tuttle.time.TimeUnit.hour,\n",
    "    units_per_workday=8,  \n",
    "    term_of_payment=14,\n",
    "    billing_cycle=tuttle.time.Cycle.monthly,\n",
    "    signature_date=datetime.date(2022, 1, 1),\n",
    "    start_date=datetime.date(2022, 1, 1),\n",
    "    end_date=datetime.date(2022, 12, 31),\n",
    ")"
   ]
  },
  {
   "cell_type": "code",
   "execution_count": 8,
   "id": "510db71f-8518-45b7-a314-84168e14a01e",
   "metadata": {},
   "outputs": [],
   "source": [
    "heating_engineering_contract = Contract(\n",
    "    title=\"Heating Repair Contract\",\n",
    "    client=sam,\n",
    "    rate=100.00,\n",
    "    currency=\"EUR\",\n",
    "    unit=tuttle.time.TimeUnit.hour,\n",
    "    units_per_workday=8,  \n",
    "    term_of_payment=30,\n",
    "    billing_cycle=tuttle.time.Cycle.monthly,\n",
    "    signature_date=datetime.date(2022, 1, 1),\n",
    "    start_date=datetime.date(2022, 1, 1),\n",
    "    end_date=datetime.date(2022, 12, 31),\n",
    ")"
   ]
  },
  {
   "cell_type": "markdown",
   "id": "07edbf05-3d32-4a6c-92ea-f0a9fb5809f1",
   "metadata": {},
   "source": [
    "_Hint: To clarify what the different parameters mean, check out this function:_"
   ]
  },
  {
   "cell_type": "code",
   "execution_count": 9,
   "id": "c5bba6a0-c3df-4740-8dd3-bd53f1753f04",
   "metadata": {},
   "outputs": [
    {
     "data": {
      "text/html": [
       "<div>\n",
       "<style scoped>\n",
       "    .dataframe tbody tr th:only-of-type {\n",
       "        vertical-align: middle;\n",
       "    }\n",
       "\n",
       "    .dataframe tbody tr th {\n",
       "        vertical-align: top;\n",
       "    }\n",
       "\n",
       "    .dataframe thead th {\n",
       "        text-align: right;\n",
       "    }\n",
       "</style>\n",
       "<table border=\"1\" class=\"dataframe\">\n",
       "  <thead>\n",
       "    <tr style=\"text-align: right;\">\n",
       "      <th></th>\n",
       "      <th>field name</th>\n",
       "      <th>field description</th>\n",
       "    </tr>\n",
       "  </thead>\n",
       "  <tbody>\n",
       "    <tr>\n",
       "      <th>0</th>\n",
       "      <td>id</td>\n",
       "      <td>None</td>\n",
       "    </tr>\n",
       "    <tr>\n",
       "      <th>1</th>\n",
       "      <td>title</td>\n",
       "      <td>Short description of the contract.</td>\n",
       "    </tr>\n",
       "    <tr>\n",
       "      <th>2</th>\n",
       "      <td>signature_date</td>\n",
       "      <td>Date on which the contract was signed</td>\n",
       "    </tr>\n",
       "    <tr>\n",
       "      <th>3</th>\n",
       "      <td>start_date</td>\n",
       "      <td>Date from which the contract is valid</td>\n",
       "    </tr>\n",
       "    <tr>\n",
       "      <th>4</th>\n",
       "      <td>end_date</td>\n",
       "      <td>Date until which the contract is valid</td>\n",
       "    </tr>\n",
       "    <tr>\n",
       "      <th>5</th>\n",
       "      <td>client_id</td>\n",
       "      <td>None</td>\n",
       "    </tr>\n",
       "    <tr>\n",
       "      <th>6</th>\n",
       "      <td>rate</td>\n",
       "      <td>Rate of remuneration</td>\n",
       "    </tr>\n",
       "    <tr>\n",
       "      <th>7</th>\n",
       "      <td>currency</td>\n",
       "      <td>None</td>\n",
       "    </tr>\n",
       "    <tr>\n",
       "      <th>8</th>\n",
       "      <td>VAT_rate</td>\n",
       "      <td>VAT rate applied to the contractual rate.</td>\n",
       "    </tr>\n",
       "    <tr>\n",
       "      <th>9</th>\n",
       "      <td>unit</td>\n",
       "      <td>Unit of time tracked. The rate applies to this...</td>\n",
       "    </tr>\n",
       "    <tr>\n",
       "      <th>10</th>\n",
       "      <td>units_per_workday</td>\n",
       "      <td>How many units of time (e.g. hours) constitute...</td>\n",
       "    </tr>\n",
       "    <tr>\n",
       "      <th>11</th>\n",
       "      <td>volume</td>\n",
       "      <td>Number of units agreed on</td>\n",
       "    </tr>\n",
       "    <tr>\n",
       "      <th>12</th>\n",
       "      <td>term_of_payment</td>\n",
       "      <td>How many days after receipt of invoice this in...</td>\n",
       "    </tr>\n",
       "    <tr>\n",
       "      <th>13</th>\n",
       "      <td>billing_cycle</td>\n",
       "      <td>None</td>\n",
       "    </tr>\n",
       "  </tbody>\n",
       "</table>\n",
       "</div>"
      ],
      "text/plain": [
       "           field name                                  field description\n",
       "0                  id                                               None\n",
       "1               title                 Short description of the contract.\n",
       "2      signature_date              Date on which the contract was signed\n",
       "3          start_date              Date from which the contract is valid\n",
       "4            end_date             Date until which the contract is valid\n",
       "5           client_id                                               None\n",
       "6                rate                               Rate of remuneration\n",
       "7            currency                                               None\n",
       "8            VAT_rate          VAT rate applied to the contractual rate.\n",
       "9                unit  Unit of time tracked. The rate applies to this...\n",
       "10  units_per_workday  How many units of time (e.g. hours) constitute...\n",
       "11             volume                          Number of units agreed on\n",
       "12    term_of_payment  How many days after receipt of invoice this in...\n",
       "13      billing_cycle                                               None"
      ]
     },
     "execution_count": 9,
     "metadata": {},
     "output_type": "execute_result"
    }
   ],
   "source": [
    "tuttle.model.help(Contract)"
   ]
  },
  {
   "cell_type": "markdown",
   "id": "36a1f34c-2913-41b0-babd-b93bdc9c05f9",
   "metadata": {
    "tags": []
   },
   "source": [
    "_Your turn: Enter and store the data for at least one contract._"
   ]
  },
  {
   "cell_type": "code",
   "execution_count": null,
   "id": "1d3591f0-e4e4-4fc0-a9dd-6c4e693d69a1",
   "metadata": {},
   "outputs": [],
   "source": []
  },
  {
   "cell_type": "markdown",
   "id": "cbff83b2-dc14-4318-8175-f2b1e4748bc7",
   "metadata": {},
   "source": [
    "_Feedback question: Were you able map all the important terms of your freelance contract(s) to the `Contract`  object? Did you miss any attribute?_"
   ]
  },
  {
   "cell_type": "markdown",
   "id": "9d4f1ec3-d39d-400f-8e43-64b91b7a0f46",
   "metadata": {},
   "source": [
    "## Setup: Projects"
   ]
  },
  {
   "cell_type": "markdown",
   "id": "12401626-75f5-4525-9792-9901c1528ba8",
   "metadata": {},
   "source": [
    "A `Project` is a large, logical unit of work. Tuttle's automatic invoice generation feature assumes that every invoice is related to one project. You may have several projects with the same client. And since the terms of business can change or get extended, you may have several contracts attached to a project. However, only one contract can be active at a time.\n",
    "\n",
    "Let's start with the simplest case: One client, one project, one contract."
   ]
  },
  {
   "cell_type": "markdown",
   "id": "06df9747-c306-4716-97e9-e7a76cdbed25",
   "metadata": {},
   "source": [
    "**Example Project**"
   ]
  },
  {
   "cell_type": "code",
   "execution_count": 10,
   "id": "65cff4cb-4482-40af-af2d-e28311be5f72",
   "metadata": {},
   "outputs": [],
   "source": [
    "import datetime\n",
    "\n",
    "from tuttle.model import Project"
   ]
  },
  {
   "cell_type": "code",
   "execution_count": 11,
   "id": "902982bc-97e3-4421-a686-b0e363f7afbd",
   "metadata": {},
   "outputs": [],
   "source": [
    "heating_repair = Project(\n",
    "    title=\"Heating Repair\",\n",
    "    tag=\"#HeatingRepair\",\n",
    "    contract=heating_repair_contract,\n",
    "    start_date=datetime.date(2022, 1, 1),\n",
    "    end_date=datetime.date(2022, 12, 31),\n",
    ")"
   ]
  },
  {
   "cell_type": "code",
   "execution_count": 12,
   "id": "62572ada-5bdc-43bc-8afd-aeef1c8ef050",
   "metadata": {},
   "outputs": [],
   "source": [
    "controller.store(heating_repair)"
   ]
  },
  {
   "cell_type": "code",
   "execution_count": 13,
   "id": "e2425d73-35ce-4fcc-91e7-c8813f3c923e",
   "metadata": {},
   "outputs": [],
   "source": [
    "heating_engineering = Project(\n",
    "    title=\"Heating Engineering\",\n",
    "    tag=\"#HeatingEngineering\",\n",
    "    contract=heating_repair_contract,\n",
    "    start_date=datetime.date(2022, 1, 1),\n",
    "    end_date=datetime.date(2022, 12, 31),\n",
    ")"
   ]
  },
  {
   "cell_type": "code",
   "execution_count": 14,
   "id": "1d4bead2-b42e-4034-a1d8-993ba9d302cb",
   "metadata": {},
   "outputs": [],
   "source": [
    "controller.store(heating_engineering)"
   ]
  },
  {
   "cell_type": "markdown",
   "id": "b835b468-91ad-4eb6-896a-53cff5dba918",
   "metadata": {},
   "source": [
    "_Hint: The `tag` attribute uniquely identifies the project for time tracking purposes - more about this in the subsequent notebooks._"
   ]
  },
  {
   "cell_type": "markdown",
   "id": "9ba2207e-070b-4a75-bfaa-acde7687c469",
   "metadata": {},
   "source": [
    "_Your turn: Enter and store the data for at least one project._"
   ]
  },
  {
   "cell_type": "code",
   "execution_count": null,
   "id": "9e522857-4c2d-4fb3-a1a2-c9899aa3cf6f",
   "metadata": {},
   "outputs": [],
   "source": []
  },
  {
   "cell_type": "markdown",
   "id": "eaa1897f-921a-4eb8-bfe6-17e44eab2967",
   "metadata": {},
   "source": [
    "----"
   ]
  }
 ],
 "metadata": {
  "kernelspec": {
   "display_name": "Python 3.10.5 ('tuttle-flet')",
   "language": "python",
   "name": "python3"
  },
  "language_info": {
   "codemirror_mode": {
    "name": "ipython",
    "version": 3
   },
   "file_extension": ".py",
   "mimetype": "text/x-python",
   "name": "python",
   "nbconvert_exporter": "python",
   "pygments_lexer": "ipython3",
   "version": "3.10.5"
  },
  "vscode": {
   "interpreter": {
    "hash": "5727a89f8f4826e6ce3fb9da18a08727b274ba76880924157270e222bba4a1ac"
   }
  }
 },
 "nbformat": 4,
 "nbformat_minor": 5
}
