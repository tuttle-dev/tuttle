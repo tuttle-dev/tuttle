{
 "cells": [
  {
   "cell_type": "markdown",
   "id": "2553fa98-ea50-444b-8fe0-b849681a7595",
   "metadata": {},
   "source": [
    "# User Setup"
   ]
  },
  {
   "cell_type": "markdown",
   "id": "c2268ff6-e356-4ca7-af88-291acd08061e",
   "metadata": {},
   "source": [
    "## Preamble"
   ]
  },
  {
   "cell_type": "code",
   "execution_count": 1,
   "id": "97e897a7-21ad-41ec-b695-e07fa5fc864e",
   "metadata": {},
   "outputs": [],
   "source": [
    "from pathlib import Path"
   ]
  },
  {
   "cell_type": "markdown",
   "id": "d24e3bb0-1116-4e97-8265-c5d347334c5c",
   "metadata": {},
   "source": [
    "## Setup"
   ]
  },
  {
   "cell_type": "markdown",
   "id": "e8576f5c-c6ab-4e40-a0f8-2dba09deb56f",
   "metadata": {},
   "source": [
    "As the first step, we import the `tuttle` Python module and instantiate the `app` object:"
   ]
  },
  {
   "cell_type": "code",
   "execution_count": 2,
   "id": "86482a31-0e11-4988-a03e-d0eff1757584",
   "metadata": {},
   "outputs": [],
   "source": [
    "import tuttle"
   ]
  },
  {
   "cell_type": "code",
   "execution_count": 3,
   "id": "a35c1002-afad-42c7-be62-b54105718519",
   "metadata": {},
   "outputs": [],
   "source": [
    "controller = tuttle.controller.Controller(home_dir=\".demo_home\")"
   ]
  },
  {
   "cell_type": "markdown",
   "id": "a85ccaaa-e35a-4199-8d99-86a786a50891",
   "metadata": {},
   "source": [
    "Since this is the beginning of the workflow, let's make sure that we start from a clean database."
   ]
  },
  {
   "cell_type": "code",
   "execution_count": 4,
   "id": "63ab7a39-1d10-4eab-9c7f-cfc871b1547a",
   "metadata": {},
   "outputs": [
    {
     "name": "stdout",
     "output_type": "stream",
     "text": [
      "2022-09-07 11:01:52,645 INFO sqlalchemy.engine.Engine BEGIN (implicit)\n",
      "2022-09-07 11:01:52,646 INFO sqlalchemy.engine.Engine PRAGMA main.table_info(\"address\")\n",
      "2022-09-07 11:01:52,646 INFO sqlalchemy.engine.Engine [raw sql] ()\n",
      "2022-09-07 11:01:52,647 INFO sqlalchemy.engine.Engine PRAGMA temp.table_info(\"address\")\n",
      "2022-09-07 11:01:52,647 INFO sqlalchemy.engine.Engine [raw sql] ()\n",
      "2022-09-07 11:01:52,647 INFO sqlalchemy.engine.Engine PRAGMA main.table_info(\"user\")\n",
      "2022-09-07 11:01:52,648 INFO sqlalchemy.engine.Engine [raw sql] ()\n",
      "2022-09-07 11:01:52,648 INFO sqlalchemy.engine.Engine PRAGMA temp.table_info(\"user\")\n",
      "2022-09-07 11:01:52,649 INFO sqlalchemy.engine.Engine [raw sql] ()\n",
      "2022-09-07 11:01:52,649 INFO sqlalchemy.engine.Engine PRAGMA main.table_info(\"icloudaccount\")\n",
      "2022-09-07 11:01:52,649 INFO sqlalchemy.engine.Engine [raw sql] ()\n",
      "2022-09-07 11:01:52,650 INFO sqlalchemy.engine.Engine PRAGMA temp.table_info(\"icloudaccount\")\n",
      "2022-09-07 11:01:52,650 INFO sqlalchemy.engine.Engine [raw sql] ()\n",
      "2022-09-07 11:01:52,651 INFO sqlalchemy.engine.Engine PRAGMA main.table_info(\"googleaccount\")\n",
      "2022-09-07 11:01:52,651 INFO sqlalchemy.engine.Engine [raw sql] ()\n",
      "2022-09-07 11:01:52,652 INFO sqlalchemy.engine.Engine PRAGMA temp.table_info(\"googleaccount\")\n",
      "2022-09-07 11:01:52,652 INFO sqlalchemy.engine.Engine [raw sql] ()\n",
      "2022-09-07 11:01:52,653 INFO sqlalchemy.engine.Engine PRAGMA main.table_info(\"bank\")\n",
      "2022-09-07 11:01:52,653 INFO sqlalchemy.engine.Engine [raw sql] ()\n",
      "2022-09-07 11:01:52,654 INFO sqlalchemy.engine.Engine PRAGMA temp.table_info(\"bank\")\n",
      "2022-09-07 11:01:52,654 INFO sqlalchemy.engine.Engine [raw sql] ()\n",
      "2022-09-07 11:01:52,654 INFO sqlalchemy.engine.Engine PRAGMA main.table_info(\"bankaccount\")\n",
      "2022-09-07 11:01:52,655 INFO sqlalchemy.engine.Engine [raw sql] ()\n",
      "2022-09-07 11:01:52,655 INFO sqlalchemy.engine.Engine PRAGMA temp.table_info(\"bankaccount\")\n",
      "2022-09-07 11:01:52,656 INFO sqlalchemy.engine.Engine [raw sql] ()\n",
      "2022-09-07 11:01:52,656 INFO sqlalchemy.engine.Engine PRAGMA main.table_info(\"contact\")\n",
      "2022-09-07 11:01:52,656 INFO sqlalchemy.engine.Engine [raw sql] ()\n",
      "2022-09-07 11:01:52,657 INFO sqlalchemy.engine.Engine PRAGMA temp.table_info(\"contact\")\n",
      "2022-09-07 11:01:52,657 INFO sqlalchemy.engine.Engine [raw sql] ()\n",
      "2022-09-07 11:01:52,657 INFO sqlalchemy.engine.Engine PRAGMA main.table_info(\"client\")\n",
      "2022-09-07 11:01:52,658 INFO sqlalchemy.engine.Engine [raw sql] ()\n",
      "2022-09-07 11:01:52,658 INFO sqlalchemy.engine.Engine PRAGMA temp.table_info(\"client\")\n",
      "2022-09-07 11:01:52,658 INFO sqlalchemy.engine.Engine [raw sql] ()\n",
      "2022-09-07 11:01:52,659 INFO sqlalchemy.engine.Engine PRAGMA main.table_info(\"contract\")\n",
      "2022-09-07 11:01:52,659 INFO sqlalchemy.engine.Engine [raw sql] ()\n",
      "2022-09-07 11:01:52,659 INFO sqlalchemy.engine.Engine PRAGMA temp.table_info(\"contract\")\n",
      "2022-09-07 11:01:52,660 INFO sqlalchemy.engine.Engine [raw sql] ()\n",
      "2022-09-07 11:01:52,660 INFO sqlalchemy.engine.Engine PRAGMA main.table_info(\"project\")\n",
      "2022-09-07 11:01:52,660 INFO sqlalchemy.engine.Engine [raw sql] ()\n",
      "2022-09-07 11:01:52,661 INFO sqlalchemy.engine.Engine PRAGMA temp.table_info(\"project\")\n",
      "2022-09-07 11:01:52,661 INFO sqlalchemy.engine.Engine [raw sql] ()\n",
      "2022-09-07 11:01:52,661 INFO sqlalchemy.engine.Engine PRAGMA main.table_info(\"timetrackingitem\")\n",
      "2022-09-07 11:01:52,662 INFO sqlalchemy.engine.Engine [raw sql] ()\n",
      "2022-09-07 11:01:52,663 INFO sqlalchemy.engine.Engine PRAGMA temp.table_info(\"timetrackingitem\")\n",
      "2022-09-07 11:01:52,663 INFO sqlalchemy.engine.Engine [raw sql] ()\n",
      "2022-09-07 11:01:52,664 INFO sqlalchemy.engine.Engine PRAGMA main.table_info(\"timesheet\")\n",
      "2022-09-07 11:01:52,664 INFO sqlalchemy.engine.Engine [raw sql] ()\n",
      "2022-09-07 11:01:52,665 INFO sqlalchemy.engine.Engine PRAGMA temp.table_info(\"timesheet\")\n",
      "2022-09-07 11:01:52,665 INFO sqlalchemy.engine.Engine [raw sql] ()\n",
      "2022-09-07 11:01:52,665 INFO sqlalchemy.engine.Engine PRAGMA main.table_info(\"invoice\")\n",
      "2022-09-07 11:01:52,666 INFO sqlalchemy.engine.Engine [raw sql] ()\n",
      "2022-09-07 11:01:52,666 INFO sqlalchemy.engine.Engine PRAGMA temp.table_info(\"invoice\")\n",
      "2022-09-07 11:01:52,666 INFO sqlalchemy.engine.Engine [raw sql] ()\n",
      "2022-09-07 11:01:52,667 INFO sqlalchemy.engine.Engine PRAGMA main.table_info(\"invoiceitem\")\n",
      "2022-09-07 11:01:52,667 INFO sqlalchemy.engine.Engine [raw sql] ()\n",
      "2022-09-07 11:01:52,667 INFO sqlalchemy.engine.Engine PRAGMA temp.table_info(\"invoiceitem\")\n",
      "2022-09-07 11:01:52,668 INFO sqlalchemy.engine.Engine [raw sql] ()\n",
      "2022-09-07 11:01:52,668 INFO sqlalchemy.engine.Engine PRAGMA main.table_info(\"timelineitem\")\n",
      "2022-09-07 11:01:52,668 INFO sqlalchemy.engine.Engine [raw sql] ()\n",
      "2022-09-07 11:01:52,669 INFO sqlalchemy.engine.Engine PRAGMA temp.table_info(\"timelineitem\")\n",
      "2022-09-07 11:01:52,669 INFO sqlalchemy.engine.Engine [raw sql] ()\n",
      "2022-09-07 11:01:52,670 INFO sqlalchemy.engine.Engine \n",
      "CREATE TABLE address (\n",
      "\tid INTEGER NOT NULL, \n",
      "\tstreet VARCHAR NOT NULL, \n",
      "\tnumber VARCHAR NOT NULL, \n",
      "\tcity VARCHAR NOT NULL, \n",
      "\tpostal_code VARCHAR NOT NULL, \n",
      "\tcountry VARCHAR NOT NULL, \n",
      "\tPRIMARY KEY (id)\n",
      ")\n",
      "\n",
      "\n",
      "2022-09-07 11:01:52,670 INFO sqlalchemy.engine.Engine [no key 0.00032s] ()\n",
      "2022-09-07 11:01:52,672 INFO sqlalchemy.engine.Engine \n",
      "CREATE TABLE icloudaccount (\n",
      "\tid INTEGER NOT NULL, \n",
      "\tuser_name VARCHAR NOT NULL, \n",
      "\tPRIMARY KEY (id)\n",
      ")\n",
      "\n",
      "\n",
      "2022-09-07 11:01:52,672 INFO sqlalchemy.engine.Engine [no key 0.00045s] ()\n",
      "2022-09-07 11:01:52,674 INFO sqlalchemy.engine.Engine \n",
      "CREATE TABLE googleaccount (\n",
      "\tid INTEGER NOT NULL, \n",
      "\tuser_name VARCHAR NOT NULL, \n",
      "\tPRIMARY KEY (id)\n",
      ")\n",
      "\n",
      "\n",
      "2022-09-07 11:01:52,674 INFO sqlalchemy.engine.Engine [no key 0.00027s] ()\n",
      "2022-09-07 11:01:52,675 INFO sqlalchemy.engine.Engine \n",
      "CREATE TABLE bank (\n",
      "\tid INTEGER NOT NULL, \n",
      "\t\"BLZ\" VARCHAR NOT NULL, \n",
      "\tPRIMARY KEY (id)\n",
      ")\n",
      "\n",
      "\n",
      "2022-09-07 11:01:52,676 INFO sqlalchemy.engine.Engine [no key 0.00042s] ()\n",
      "2022-09-07 11:01:52,677 INFO sqlalchemy.engine.Engine \n",
      "CREATE TABLE bankaccount (\n",
      "\tid INTEGER NOT NULL, \n",
      "\tname VARCHAR NOT NULL, \n",
      "\t\"IBAN\" VARCHAR NOT NULL, \n",
      "\t\"BIC\" VARCHAR NOT NULL, \n",
      "\tPRIMARY KEY (id)\n",
      ")\n",
      "\n",
      "\n",
      "2022-09-07 11:01:52,677 INFO sqlalchemy.engine.Engine [no key 0.00027s] ()\n",
      "2022-09-07 11:01:52,678 INFO sqlalchemy.engine.Engine \n",
      "CREATE TABLE timelineitem (\n",
      "\ttime DATETIME NOT NULL, \n",
      "\tid INTEGER NOT NULL, \n",
      "\tcontent VARCHAR NOT NULL, \n",
      "\tPRIMARY KEY (id)\n",
      ")\n",
      "\n",
      "\n",
      "2022-09-07 11:01:52,679 INFO sqlalchemy.engine.Engine [no key 0.00040s] ()\n",
      "2022-09-07 11:01:52,680 INFO sqlalchemy.engine.Engine \n",
      "CREATE TABLE user (\n",
      "\tid INTEGER NOT NULL, \n",
      "\tname VARCHAR NOT NULL, \n",
      "\tsubtitle VARCHAR NOT NULL, \n",
      "\twebsite VARCHAR NOT NULL, \n",
      "\temail VARCHAR NOT NULL, \n",
      "\tphone_number VARCHAR NOT NULL, \n",
      "\taddress_id INTEGER, \n",
      "\t\"VAT_number\" VARCHAR, \n",
      "\ticloud_account_id INTEGER, \n",
      "\tbank_account_id INTEGER, \n",
      "\tlogo VARCHAR, \n",
      "\tPRIMARY KEY (id), \n",
      "\tFOREIGN KEY(address_id) REFERENCES address (id), \n",
      "\tFOREIGN KEY(icloud_account_id) REFERENCES icloudaccount (id), \n",
      "\tFOREIGN KEY(bank_account_id) REFERENCES bankaccount (id)\n",
      ")\n",
      "\n",
      "\n",
      "2022-09-07 11:01:52,680 INFO sqlalchemy.engine.Engine [no key 0.00031s] ()\n",
      "2022-09-07 11:01:52,682 INFO sqlalchemy.engine.Engine \n",
      "CREATE TABLE contact (\n",
      "\tid INTEGER NOT NULL, \n",
      "\tname VARCHAR NOT NULL, \n",
      "\temail VARCHAR, \n",
      "\taddress_id INTEGER, \n",
      "\tPRIMARY KEY (id), \n",
      "\tFOREIGN KEY(address_id) REFERENCES address (id)\n",
      ")\n",
      "\n",
      "\n",
      "2022-09-07 11:01:52,682 INFO sqlalchemy.engine.Engine [no key 0.00038s] ()\n",
      "2022-09-07 11:01:52,683 INFO sqlalchemy.engine.Engine \n",
      "CREATE TABLE client (\n",
      "\tid INTEGER NOT NULL, \n",
      "\tname VARCHAR NOT NULL, \n",
      "\tinvoicing_contact_id INTEGER, \n",
      "\tPRIMARY KEY (id), \n",
      "\tFOREIGN KEY(invoicing_contact_id) REFERENCES contact (id)\n",
      ")\n",
      "\n",
      "\n",
      "2022-09-07 11:01:52,684 INFO sqlalchemy.engine.Engine [no key 0.00032s] ()\n",
      "2022-09-07 11:01:52,685 INFO sqlalchemy.engine.Engine \n",
      "CREATE TABLE contract (\n",
      "\tunit VARCHAR(6), \n",
      "\tbilling_cycle VARCHAR(9), \n",
      "\tid INTEGER NOT NULL, \n",
      "\ttitle VARCHAR NOT NULL, \n",
      "\tsignature_date DATE NOT NULL, \n",
      "\tstart_date DATE NOT NULL, \n",
      "\tend_date DATE, \n",
      "\tclient_id INTEGER, \n",
      "\trate NUMERIC NOT NULL, \n",
      "\tcurrency VARCHAR NOT NULL, \n",
      "\t\"VAT_rate\" NUMERIC NOT NULL, \n",
      "\tunits_per_workday INTEGER NOT NULL, \n",
      "\tvolume INTEGER, \n",
      "\tterm_of_payment INTEGER, \n",
      "\tPRIMARY KEY (id), \n",
      "\tFOREIGN KEY(client_id) REFERENCES client (id)\n",
      ")\n",
      "\n",
      "\n",
      "2022-09-07 11:01:52,685 INFO sqlalchemy.engine.Engine [no key 0.00037s] ()\n",
      "2022-09-07 11:01:52,686 INFO sqlalchemy.engine.Engine \n",
      "CREATE TABLE project (\n",
      "\tid INTEGER NOT NULL, \n",
      "\ttitle VARCHAR NOT NULL, \n",
      "\ttag VARCHAR NOT NULL, \n",
      "\tstart_date DATE NOT NULL, \n",
      "\tend_date DATE NOT NULL, \n",
      "\tcontract_id INTEGER, \n",
      "\tPRIMARY KEY (id), \n",
      "\tUNIQUE (title), \n",
      "\tUNIQUE (tag), \n",
      "\tFOREIGN KEY(contract_id) REFERENCES contract (id)\n",
      ")\n",
      "\n",
      "\n",
      "2022-09-07 11:01:52,687 INFO sqlalchemy.engine.Engine [no key 0.00031s] ()\n",
      "2022-09-07 11:01:52,688 INFO sqlalchemy.engine.Engine \n",
      "CREATE TABLE invoice (\n",
      "\tid INTEGER NOT NULL, \n",
      "\tnumber VARCHAR, \n",
      "\tdate DATE NOT NULL, \n",
      "\tcontract_id INTEGER, \n",
      "\tsent BOOLEAN, \n",
      "\tpaid BOOLEAN, \n",
      "\tcancelled BOOLEAN, \n",
      "\tPRIMARY KEY (id), \n",
      "\tFOREIGN KEY(contract_id) REFERENCES contract (id)\n",
      ")\n",
      "\n",
      "\n",
      "2022-09-07 11:01:52,689 INFO sqlalchemy.engine.Engine [no key 0.00060s] ()\n",
      "2022-09-07 11:01:52,690 INFO sqlalchemy.engine.Engine \n",
      "CREATE TABLE timesheet (\n",
      "\tid INTEGER NOT NULL, \n",
      "\ttitle VARCHAR NOT NULL, \n",
      "\tdate DATE NOT NULL, \n",
      "\tperiod VARCHAR NOT NULL, \n",
      "\tproject_id INTEGER, \n",
      "\tcomment VARCHAR, \n",
      "\tPRIMARY KEY (id), \n",
      "\tFOREIGN KEY(project_id) REFERENCES project (id)\n",
      ")\n",
      "\n",
      "\n",
      "2022-09-07 11:01:52,691 INFO sqlalchemy.engine.Engine [no key 0.00034s] ()\n",
      "2022-09-07 11:01:52,692 INFO sqlalchemy.engine.Engine \n",
      "CREATE TABLE invoiceitem (\n",
      "\tid INTEGER NOT NULL, \n",
      "\tstart_date DATE NOT NULL, \n",
      "\tend_date DATE, \n",
      "\tquantity INTEGER NOT NULL, \n",
      "\tunit VARCHAR NOT NULL, \n",
      "\tunit_price NUMERIC NOT NULL, \n",
      "\tdescription VARCHAR NOT NULL, \n",
      "\t\"VAT_rate\" NUMERIC NOT NULL, \n",
      "\tinvoice_id INTEGER, \n",
      "\tPRIMARY KEY (id), \n",
      "\tFOREIGN KEY(invoice_id) REFERENCES invoice (id)\n",
      ")\n",
      "\n",
      "\n",
      "2022-09-07 11:01:52,692 INFO sqlalchemy.engine.Engine [no key 0.00041s] ()\n",
      "2022-09-07 11:01:52,694 INFO sqlalchemy.engine.Engine \n",
      "CREATE TABLE timetrackingitem (\n",
      "\tid INTEGER NOT NULL, \n",
      "\ttimesheet_id INTEGER, \n",
      "\t\"begin\" DATETIME NOT NULL, \n",
      "\t\"end\" DATETIME, \n",
      "\tduration DATETIME NOT NULL, \n",
      "\ttitle VARCHAR NOT NULL, \n",
      "\ttag VARCHAR NOT NULL, \n",
      "\tdescription VARCHAR, \n",
      "\tPRIMARY KEY (id), \n",
      "\tFOREIGN KEY(timesheet_id) REFERENCES timesheet (id)\n",
      ")\n",
      "\n",
      "\n",
      "2022-09-07 11:01:52,694 INFO sqlalchemy.engine.Engine [no key 0.00030s] ()\n",
      "2022-09-07 11:01:52,695 INFO sqlalchemy.engine.Engine COMMIT\n"
     ]
    }
   ],
   "source": [
    "controller.clear_database()"
   ]
  },
  {
   "cell_type": "markdown",
   "id": "ac14fca2-657d-4e8c-9730-74048e0c9551",
   "metadata": {},
   "source": [
    "After running this, a new database has been created in your user space:"
   ]
  },
  {
   "cell_type": "code",
   "execution_count": 5,
   "id": "ce5aac90-3726-423c-bdfa-0a4b57a977cf",
   "metadata": {},
   "outputs": [
    {
     "name": "stdout",
     "output_type": "stream",
     "text": [
      "tuttle.db\n"
     ]
    }
   ],
   "source": [
    "!ls {Path.home()}/.tuttle/"
   ]
  },
  {
   "cell_type": "markdown",
   "id": "f09d43d2-a8ef-41db-92e3-eb554f4a870e",
   "metadata": {},
   "source": [
    "## User"
   ]
  },
  {
   "cell_type": "markdown",
   "id": "8081bb65-a8cf-4795-b160-edfbc00d56ff",
   "metadata": {},
   "source": [
    "When first running the application, you need to provide the application with information about you and your freelance business. You do this by creating a new `User` object."
   ]
  },
  {
   "cell_type": "markdown",
   "id": "a6a62aee-e4a4-41eb-948b-d6c13ee598dd",
   "metadata": {},
   "source": [
    "Here is an example:"
   ]
  },
  {
   "cell_type": "code",
   "execution_count": 6,
   "id": "94c8b532-db99-4778-adbb-ab3e7abb345f",
   "metadata": {},
   "outputs": [],
   "source": [
    "from tuttle.model import User, Address, BankAccount, ICloudAccount"
   ]
  },
  {
   "cell_type": "code",
   "execution_count": 7,
   "id": "a273a395-af1f-43e0-b031-85c4c8058d54",
   "metadata": {},
   "outputs": [],
   "source": [
    "harry = User(\n",
    "    name=\"Harry Tuttle\",\n",
    "    subtitle=\"Heating Engineer\",\n",
    "    website=\"https://tuttle-dev.github.io/tuttle/\",\n",
    "    email=\"mail@tuttle.com\",\n",
    "    phone_number=\"+55555555555\",\n",
    "    VAT_number=\"DZ-015\",\n",
    "    address=Address(\n",
    "        name=\"Harry Tuttle\",\n",
    "        street=\"Main Street\",\n",
    "        number=\"450\",\n",
    "        city=\"Sao Paolo\",\n",
    "        postal_code=\"555555\",\n",
    "        country=\"Brazil\",\n",
    "    ),\n",
    "    bank_account=BankAccount(\n",
    "        name=\"Giro\",\n",
    "        IBAN=\"BZ99830994950003161565\",\n",
    "        BIC=\"ABCDEFGH\",\n",
    "    ),\n",
    "    icloud_account=ICloudAccount(user_name=\"mail@tuttle.com\")\n",
    ")"
   ]
  },
  {
   "cell_type": "markdown",
   "id": "94d1ea43-33ae-4170-b214-9a9c9e57ce7b",
   "metadata": {},
   "source": [
    "Now it's your turn - please provide your details and instantiate a user object. \n",
    "\n",
    "(If you do not have an iCloud account, don't worry, there are other options of accessing your calendar data)."
   ]
  },
  {
   "cell_type": "code",
   "execution_count": 8,
   "id": "b34bee56-d039-4644-abda-0467dc5a6430",
   "metadata": {},
   "outputs": [],
   "source": [
    "user = harry # replace this with an new user object"
   ]
  },
  {
   "cell_type": "markdown",
   "id": "e5d8f85e-0b4c-4e72-bf6b-8bad8c62c851",
   "metadata": {},
   "source": [
    "Store your new user in the database:"
   ]
  },
  {
   "cell_type": "code",
   "execution_count": 9,
   "id": "4d811f75-c3c7-4c6d-8042-93d452fb1197",
   "metadata": {},
   "outputs": [
    {
     "name": "stdout",
     "output_type": "stream",
     "text": [
      "2022-09-07 11:01:53,397 INFO sqlalchemy.engine.Engine BEGIN (implicit)\n",
      "2022-09-07 11:01:53,399 INFO sqlalchemy.engine.Engine INSERT INTO address (street, number, city, postal_code, country) VALUES (?, ?, ?, ?, ?)\n",
      "2022-09-07 11:01:53,400 INFO sqlalchemy.engine.Engine [generated in 0.00098s] ('Main Street', '450', 'Sao Paolo', '555555', 'Brazil')\n",
      "2022-09-07 11:01:53,401 INFO sqlalchemy.engine.Engine INSERT INTO bankaccount (name, \"IBAN\", \"BIC\") VALUES (?, ?, ?)\n",
      "2022-09-07 11:01:53,402 INFO sqlalchemy.engine.Engine [generated in 0.00042s] ('Giro', 'BZ99830994950003161565', 'ABCDEFGH')\n",
      "2022-09-07 11:01:53,403 INFO sqlalchemy.engine.Engine INSERT INTO icloudaccount (user_name) VALUES (?)\n",
      "2022-09-07 11:01:53,403 INFO sqlalchemy.engine.Engine [generated in 0.00036s] ('mail@tuttle.com',)\n",
      "2022-09-07 11:01:53,404 INFO sqlalchemy.engine.Engine INSERT INTO user (name, subtitle, website, email, phone_number, address_id, \"VAT_number\", icloud_account_id, bank_account_id, logo) VALUES (?, ?, ?, ?, ?, ?, ?, ?, ?, ?)\n",
      "2022-09-07 11:01:53,405 INFO sqlalchemy.engine.Engine [generated in 0.00034s] ('Harry Tuttle', 'Heating Engineer', 'https://tuttle-dev.github.io/tuttle/', 'mail@tuttle.com', '+55555555555', 1, 'DZ-015', 1, 1, None)\n",
      "2022-09-07 11:01:53,405 INFO sqlalchemy.engine.Engine COMMIT\n"
     ]
    }
   ],
   "source": [
    "controller.store(user)"
   ]
  },
  {
   "cell_type": "markdown",
   "id": "7fe8b9a2-c5db-4dfe-b500-40e4a7d9faa4",
   "metadata": {},
   "source": [
    "Test this by accessing the user:"
   ]
  },
  {
   "cell_type": "code",
   "execution_count": 10,
   "id": "f2a1772b-9c1e-4689-9c50-9a6784d8fd7a",
   "metadata": {},
   "outputs": [
    {
     "data": {
      "text/plain": [
       "User(name='Harry Tuttle', subtitle='Heating Engineer', website='https://tuttle-dev.github.io/tuttle/', phone_number='+55555555555', VAT_number='DZ-015', bank_account_id=1, id=1, email='mail@tuttle.com', address_id=1, icloud_account_id=1, logo=None)"
      ]
     },
     "execution_count": 10,
     "metadata": {},
     "output_type": "execute_result"
    }
   ],
   "source": [
    "controller.user"
   ]
  }
 ],
 "metadata": {
  "kernelspec": {
   "display_name": "Python 3.10.5 ('tuttle-flet')",
   "language": "python",
   "name": "python3"
  },
  "language_info": {
   "codemirror_mode": {
    "name": "ipython",
    "version": 3
   },
   "file_extension": ".py",
   "mimetype": "text/x-python",
   "name": "python",
   "nbconvert_exporter": "python",
   "pygments_lexer": "ipython3",
   "version": "3.10.5"
  },
  "vscode": {
   "interpreter": {
    "hash": "5727a89f8f4826e6ce3fb9da18a08727b274ba76880924157270e222bba4a1ac"
   }
  }
 },
 "nbformat": 4,
 "nbformat_minor": 5
}
