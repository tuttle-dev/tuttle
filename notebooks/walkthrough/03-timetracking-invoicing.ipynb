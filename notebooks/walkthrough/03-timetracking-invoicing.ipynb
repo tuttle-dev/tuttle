{
 "cells": [
  {
   "cell_type": "markdown",
   "id": "a26a64c7-f0be-41f6-af0e-ad3f36fc6a19",
   "metadata": {},
   "source": [
    "# Time Tracking"
   ]
  },
  {
   "cell_type": "markdown",
   "id": "2619bc0e-7bdf-4c67-9900-b6ba53f980f4",
   "metadata": {},
   "source": [
    "Our target user is a freelancer who bills clients by the time worked. Therefore, managing, tracking and planning your work time is a central task. Tuttle wants to make this as easy and effective as possible for you. Let's get started:"
   ]
  },
  {
   "cell_type": "markdown",
   "id": "a87a1adb-156b-4333-aa8e-3dfd2965b5a5",
   "metadata": {},
   "source": [
    "## Preamble"
   ]
  },
  {
   "cell_type": "code",
   "execution_count": 15,
   "id": "8a5c691b-8d3f-4712-837a-96f634907bb5",
   "metadata": {},
   "outputs": [],
   "source": [
    "from pathlib import Path\n",
    "import ipywidgets\n",
    "from IPython import display\n",
    "import datetime"
   ]
  },
  {
   "cell_type": "code",
   "execution_count": 16,
   "id": "8a25d62c-dd13-4a3e-ab2e-cfca49d6093b",
   "metadata": {},
   "outputs": [],
   "source": [
    "import tuttle"
   ]
  },
  {
   "cell_type": "code",
   "execution_count": 17,
   "id": "dfcfd023-8497-4b0f-b320-35137c511921",
   "metadata": {},
   "outputs": [],
   "source": [
    "controller = tuttle.controller.Controller(home_dir=\".demo_home\")"
   ]
  },
  {
   "cell_type": "markdown",
   "id": "9f3c3273-b564-4330-9f16-01df78760ddf",
   "metadata": {},
   "source": [
    "## How to Record Project Time with Tuttle"
   ]
  },
  {
   "cell_type": "markdown",
   "id": "f656eccf-bb3a-4225-8a7e-86c0a9b68402",
   "metadata": {},
   "source": [
    "- Previously we asked you to assign a unique **tag** to each project that you want to track. We use this tag to assign time tracking entries to projects, trying to find the tag in:\n",
    "    - the title of your calendar entries\n",
    "    - the title of your time tracking entries"
   ]
  },
  {
   "cell_type": "markdown",
   "id": "93048fa6-0ee2-48ec-a88c-cd328032fd5d",
   "metadata": {
    "tags": []
   },
   "source": [
    "## Importing Time Tracking Data"
   ]
  },
  {
   "cell_type": "markdown",
   "id": "3d90036f-3f60-421b-8c38-767b53abcf87",
   "metadata": {},
   "source": [
    "Currently we provide several ways of inputting time management data:\n",
    "    \n",
    "1. **Cloud Calendar**: Querying your cloud calendar: Log into your cloud calendar provider and import your calendar events seamlessly.\n",
    "2. **File Calendar**: Export your calendar in the iCalendar format and parse it.\n",
    "3. **Time Tracking Spreadsheets**: You may prefer to track your time not in the calendar but a specialized tool. As long as this tool can export time tracking data in a consistent format, we want to provide an option to import it into Tuttle."
   ]
  },
  {
   "cell_type": "code",
   "execution_count": 18,
   "id": "c4a179eb-e25e-4b0f-b533-4acbee2f462a",
   "metadata": {},
   "outputs": [],
   "source": [
    "time_tracking_preference = ipywidgets.RadioButtons(options=[\"File Calendar\", \"Cloud Calendar\", \"Spreadsheet\"])"
   ]
  },
  {
   "cell_type": "markdown",
   "id": "71a3e6db-2daa-4388-9453-25e278b1c985",
   "metadata": {},
   "source": [
    "_Select your prereference for importing time tracking data:_"
   ]
  },
  {
   "cell_type": "code",
   "execution_count": 19,
   "id": "fc231461-47f4-4603-8d81-0ff0d5345576",
   "metadata": {},
   "outputs": [
    {
     "data": {
      "application/vnd.jupyter.widget-view+json": {
       "model_id": "91f3eed54ca84ad88f59b7077cda3149",
       "version_major": 2,
       "version_minor": 0
      },
      "text/plain": [
       "RadioButtons(options=('File Calendar', 'Cloud Calendar', 'Spreadsheet'), value='File Calendar')"
      ]
     },
     "execution_count": 19,
     "metadata": {},
     "output_type": "execute_result"
    }
   ],
   "source": [
    "time_tracking_preference"
   ]
  },
  {
   "cell_type": "markdown",
   "id": "eaa9ca7f-6d28-4798-8030-2c0909e01cfd",
   "metadata": {
    "tags": []
   },
   "source": [
    "### A) Time Tracking via Cloud Calendar"
   ]
  },
  {
   "cell_type": "markdown",
   "id": "74a56dda-f28c-4a5c-8636-cab887d5331e",
   "metadata": {},
   "source": [
    "If you have an Apple iCloud account, follow this process. (We are working on connectors with other cloud services)"
   ]
  },
  {
   "cell_type": "code",
   "execution_count": 20,
   "id": "36858e57-f404-4475-89a4-bf343575b850",
   "metadata": {},
   "outputs": [
    {
     "data": {
      "text/plain": [
       "'mail@tuttle.com'"
      ]
     },
     "execution_count": 20,
     "metadata": {},
     "output_type": "execute_result"
    }
   ],
   "source": [
    "icloud_username = controller.user.icloud_account.user_name\n",
    "icloud_username"
   ]
  },
  {
   "cell_type": "markdown",
   "id": "45aa4e5c-6b5d-4b1b-8204-5d0070e447f5",
   "metadata": {},
   "source": [
    "Connect to your cloud calendar that contains your time tracking events:"
   ]
  },
  {
   "cell_type": "code",
   "execution_count": 21,
   "id": "fab0a8d9-8750-4fd4-8829-d8f3382bdd36",
   "metadata": {},
   "outputs": [],
   "source": [
    "from tuttle.calendar import ICloudCalendar"
   ]
  },
  {
   "cell_type": "code",
   "execution_count": 22,
   "id": "34d8ef72-6b78-4b45-8e63-30f85da38978",
   "metadata": {},
   "outputs": [],
   "source": [
    "if time_tracking_preference.value == \"Cloud Calendar\":\n",
    "    my_calendar = ICloudCalendar(\n",
    "        icloud=tuttle.cloud.login_iCloud(\n",
    "            user_name=icloud_username,\n",
    "        ),\n",
    "        name=input(\"calendar name: \"),\n",
    "    )"
   ]
  },
  {
   "cell_type": "markdown",
   "id": "aa72722a-de02-4b93-a2c8-2181ee4fc407",
   "metadata": {},
   "source": [
    "### B) Time  Tracking via Calendar Import"
   ]
  },
  {
   "cell_type": "code",
   "execution_count": 23,
   "id": "4d67eabc-81e2-448c-84f7-04f550c4920d",
   "metadata": {},
   "outputs": [],
   "source": [
    "from tuttle.calendar import FileCalendar"
   ]
  },
  {
   "cell_type": "markdown",
   "id": "3fb806ea-a6ff-4a4d-97f0-b7ebe893747d",
   "metadata": {},
   "source": [
    "**Example: file calendar**"
   ]
  },
  {
   "cell_type": "code",
   "execution_count": 24,
   "id": "613ae8db-16fd-4ff2-9297-7b8a9dc66b63",
   "metadata": {},
   "outputs": [],
   "source": [
    "timetracking_calendar_path = Path(\"../../tuttle_tests/data/TuttleDemo-TimeTracking.ics\")"
   ]
  },
  {
   "cell_type": "code",
   "execution_count": 25,
   "id": "49537776-53ee-447b-b4bf-0058f25ed39d",
   "metadata": {},
   "outputs": [],
   "source": [
    "if time_tracking_preference.value == \"File Calendar\":\n",
    "    my_calendar = FileCalendar(\n",
    "        path=timetracking_calendar_path, \n",
    "        name=\"TimeTracking\"\n",
    "    )"
   ]
  },
  {
   "cell_type": "markdown",
   "id": "323a5d89-9c49-438c-842f-701e4dac1d15",
   "metadata": {},
   "source": [
    "### C) Time Tracking via Data Export from Time Tracking Tools"
   ]
  },
  {
   "cell_type": "code",
   "execution_count": 26,
   "id": "382fd3cd-901d-4365-b483-d43eed555ad2",
   "metadata": {},
   "outputs": [],
   "source": [
    "if time_tracking_preference.value == \"Spreadsheet\":\n",
    "    timetracking_data = tuttle.timetracking.import_from_spreadsheet(\n",
    "        path=\"../../tuttle_tests/data/test_time_tracking_toggl.csv\",\n",
    "        preset=tuttle.timetracking.TimetrackingSpreadsheetPreset.Toggl,\n",
    "    )"
   ]
  },
  {
   "cell_type": "markdown",
   "id": "6199d186-f236-42d2-8df9-cfc22bc02ef9",
   "metadata": {},
   "source": [
    "Check if the format of your spreadsheets is already supoorted as a preset. Otherwise, set the arguments of `import_from_spreadsheet` to match your required format."
   ]
  },
  {
   "cell_type": "markdown",
   "id": "e7d2675c-2b2d-4d43-a59a-d1173362500c",
   "metadata": {},
   "source": [
    "After a successful import, you can pass the resulting `timetracking_data` wherever as a `source` to the following functions."
   ]
  },
  {
   "cell_type": "markdown",
   "id": "97f278b2-157b-4284-bb45-39f1420ac82d",
   "metadata": {},
   "source": [
    "## Generating Time Sheets"
   ]
  },
  {
   "cell_type": "markdown",
   "id": "51c22195-82dc-44f3-97db-999aee527663",
   "metadata": {},
   "source": [
    "Now that we have connected a source for time tracking data, we can pass it to other functions. In the following we generate **time sheets**. \n",
    "\n",
    "A **time sheet** \n",
    "- can be rendered to a document for reporting purposes\n",
    "- is the basis for an **invoice** - more on invoicing later."
   ]
  },
  {
   "cell_type": "markdown",
   "id": "3cebe1f6-242c-44cb-8eb5-755e07b22e2a",
   "metadata": {},
   "source": [
    "**Select a project**"
   ]
  },
  {
   "cell_type": "markdown",
   "id": "ff0fad15-c655-44c1-a195-23a2b73e24dc",
   "metadata": {},
   "source": [
    "**Example**"
   ]
  },
  {
   "cell_type": "code",
   "execution_count": 27,
   "id": "a1175e05-6f41-4665-82bf-6d68a22a6b01",
   "metadata": {},
   "outputs": [],
   "source": [
    "my_project = controller.get_project(title=\"Heating Repair\")"
   ]
  },
  {
   "cell_type": "markdown",
   "id": "e6c55933-1cf9-4d73-8ffa-4eaecc20e5ef",
   "metadata": {},
   "source": [
    "_Your turn: Select one of your projects by title_"
   ]
  },
  {
   "cell_type": "markdown",
   "id": "abd70f82-5156-463b-a83c-903b0d95692f",
   "metadata": {},
   "source": [
    "**Generate a time sheet**"
   ]
  },
  {
   "cell_type": "code",
   "execution_count": 28,
   "id": "d57420fe-ef7f-442a-9ebf-f452895b1fce",
   "metadata": {},
   "outputs": [
    {
     "name": "stderr",
     "output_type": "stream",
     "text": [
      "/Users/cls/Documents/Work/Projects/PrototypeFund/Dev/tuttle/tuttle/timetracking.py:56: FutureWarning: Value based partial slicing on non-monotonic DatetimeIndexes with non-existing keys is deprecated and will raise a KeyError in a future Version.\n",
      "  timetracking_data.loc[period_start:period_end].query(tag_query).sort_index()\n",
      "/Users/cls/miniforge3/envs/tuttle-flet/lib/python3.10/site-packages/sqlmodel/orm/session.py:101: SAWarning: Dialect sqlite+pysqlite does *not* support Decimal objects natively, and SQLAlchemy must convert from floating point - rounding errors and other issues may occur. Please consider storing Decimal numbers as strings or integers on this platform for lossless storage.\n",
      "  return super().execute(  # type: ignore\n"
     ]
    }
   ],
   "source": [
    "my_timesheet = tuttle.timetracking.generate_timesheet(\n",
    "    source=my_calendar,\n",
    "    project=my_project,\n",
    "    period_start=\"February 2022\",\n",
    "    period_end=\"March 2022\",\n",
    "    item_description=my_project.title,\n",
    ")"
   ]
  },
  {
   "cell_type": "markdown",
   "id": "0b165ac3-38d0-4177-b5e1-a94b73a41040",
   "metadata": {},
   "source": [
    "_Your turn: Generate a timesheet for your project_"
   ]
  },
  {
   "cell_type": "code",
   "execution_count": null,
   "id": "d3f3bd6b-89d8-4c94-a920-8cca10e02d64",
   "metadata": {},
   "outputs": [],
   "source": []
  },
  {
   "cell_type": "markdown",
   "id": "3739de73-24b2-4c77-92a9-623b36c769fe",
   "metadata": {},
   "source": [
    "**Display the timesheet data**"
   ]
  },
  {
   "cell_type": "code",
   "execution_count": 29,
   "id": "f6ffbadd-f43b-40c9-bfda-a28758dbfaba",
   "metadata": {},
   "outputs": [
    {
     "data": {
      "text/html": [
       "<div>\n",
       "<style scoped>\n",
       "    .dataframe tbody tr th:only-of-type {\n",
       "        vertical-align: middle;\n",
       "    }\n",
       "\n",
       "    .dataframe tbody tr th {\n",
       "        vertical-align: top;\n",
       "    }\n",
       "\n",
       "    .dataframe thead th {\n",
       "        text-align: right;\n",
       "    }\n",
       "</style>\n",
       "<table border=\"1\" class=\"dataframe\">\n",
       "  <thead>\n",
       "    <tr style=\"text-align: right;\">\n",
       "      <th></th>\n",
       "      <th>id</th>\n",
       "      <th>timesheet_id</th>\n",
       "      <th>begin</th>\n",
       "      <th>end</th>\n",
       "      <th>duration</th>\n",
       "      <th>title</th>\n",
       "      <th>tag</th>\n",
       "      <th>description</th>\n",
       "    </tr>\n",
       "  </thead>\n",
       "  <tbody>\n",
       "    <tr>\n",
       "      <th>0</th>\n",
       "      <td>None</td>\n",
       "      <td>None</td>\n",
       "      <td>2022-02-17 01:00:00+01:00</td>\n",
       "      <td>2022-02-18 01:00:00+01:00</td>\n",
       "      <td>0 days 08:00:00</td>\n",
       "      <td>#HeatingRepair</td>\n",
       "      <td>#HeatingRepair</td>\n",
       "      <td>Heating Repair</td>\n",
       "    </tr>\n",
       "    <tr>\n",
       "      <th>1</th>\n",
       "      <td>None</td>\n",
       "      <td>None</td>\n",
       "      <td>2022-02-18 01:00:00+01:00</td>\n",
       "      <td>2022-02-19 01:00:00+01:00</td>\n",
       "      <td>0 days 08:00:00</td>\n",
       "      <td>#HeatingRepair</td>\n",
       "      <td>#HeatingRepair</td>\n",
       "      <td>Heating Repair</td>\n",
       "    </tr>\n",
       "  </tbody>\n",
       "</table>\n",
       "</div>"
      ],
      "text/plain": [
       "     id timesheet_id                     begin                       end  \\\n",
       "0  None         None 2022-02-17 01:00:00+01:00 2022-02-18 01:00:00+01:00   \n",
       "1  None         None 2022-02-18 01:00:00+01:00 2022-02-19 01:00:00+01:00   \n",
       "\n",
       "         duration           title             tag     description  \n",
       "0 0 days 08:00:00  #HeatingRepair  #HeatingRepair  Heating Repair  \n",
       "1 0 days 08:00:00  #HeatingRepair  #HeatingRepair  Heating Repair  "
      ]
     },
     "execution_count": 29,
     "metadata": {},
     "output_type": "execute_result"
    }
   ],
   "source": [
    "my_timesheet.table"
   ]
  },
  {
   "cell_type": "markdown",
   "id": "e06400ff-735e-4d8d-a50f-57d06addbc3c",
   "metadata": {},
   "source": [
    "**Render the timesheet document**"
   ]
  },
  {
   "cell_type": "markdown",
   "id": "90e2ab4e-b312-40ec-b140-db7b38e8a501",
   "metadata": {},
   "source": [
    "The following function renders a timesheet to an HTML-based layout:"
   ]
  },
  {
   "cell_type": "markdown",
   "id": "157ae59e-0740-4014-b356-365c0a473035",
   "metadata": {},
   "source": [
    "You can display the HTML in the notebook..."
   ]
  },
  {
   "cell_type": "code",
   "execution_count": 30,
   "id": "812b03ca-91b8-4a37-a11f-2aae06c22d7a",
   "metadata": {},
   "outputs": [
    {
     "ename": "IntegrityError",
     "evalue": "(raised as a result of Query-invoked autoflush; consider using a session.no_autoflush block if this flush is occurring prematurely)\n(sqlite3.IntegrityError) NOT NULL constraint failed: timesheet.period\n[SQL: INSERT INTO timesheet (title, date, period, project_id, comment) VALUES (?, ?, ?, ?, ?)]\n[parameters: ('Heating Repair - February 2022 - March 2022', '2022-09-07', None, 1, '')]\n(Background on this error at: https://sqlalche.me/e/14/gkpj)",
     "output_type": "error",
     "traceback": [
      "\u001b[0;31m---------------------------------------------------------------------------\u001b[0m",
      "\u001b[0;31mIntegrityError\u001b[0m                            Traceback (most recent call last)",
      "File \u001b[0;32m~/miniforge3/envs/tuttle-flet/lib/python3.10/site-packages/sqlalchemy/engine/base.py:1900\u001b[0m, in \u001b[0;36mConnection._execute_context\u001b[0;34m(self, dialect, constructor, statement, parameters, execution_options, *args, **kw)\u001b[0m\n\u001b[1;32m   1899\u001b[0m     \u001b[39mif\u001b[39;00m \u001b[39mnot\u001b[39;00m evt_handled:\n\u001b[0;32m-> 1900\u001b[0m         \u001b[39mself\u001b[39;49m\u001b[39m.\u001b[39;49mdialect\u001b[39m.\u001b[39;49mdo_execute(\n\u001b[1;32m   1901\u001b[0m             cursor, statement, parameters, context\n\u001b[1;32m   1902\u001b[0m         )\n\u001b[1;32m   1904\u001b[0m \u001b[39mif\u001b[39;00m \u001b[39mself\u001b[39m\u001b[39m.\u001b[39m_has_events \u001b[39mor\u001b[39;00m \u001b[39mself\u001b[39m\u001b[39m.\u001b[39mengine\u001b[39m.\u001b[39m_has_events:\n",
      "File \u001b[0;32m~/miniforge3/envs/tuttle-flet/lib/python3.10/site-packages/sqlalchemy/engine/default.py:732\u001b[0m, in \u001b[0;36mDefaultDialect.do_execute\u001b[0;34m(self, cursor, statement, parameters, context)\u001b[0m\n\u001b[1;32m    731\u001b[0m \u001b[39mdef\u001b[39;00m \u001b[39mdo_execute\u001b[39m(\u001b[39mself\u001b[39m, cursor, statement, parameters, context\u001b[39m=\u001b[39m\u001b[39mNone\u001b[39;00m):\n\u001b[0;32m--> 732\u001b[0m     cursor\u001b[39m.\u001b[39;49mexecute(statement, parameters)\n",
      "\u001b[0;31mIntegrityError\u001b[0m: NOT NULL constraint failed: timesheet.period",
      "\nThe above exception was the direct cause of the following exception:\n",
      "\u001b[0;31mIntegrityError\u001b[0m                            Traceback (most recent call last)",
      "\u001b[1;32m/Users/cls/Documents/Work/Projects/PrototypeFund/Dev/tuttle/notebooks/walkthrough/03-timetracking-invoicing.ipynb Cell 44\u001b[0m in \u001b[0;36m<cell line: 1>\u001b[0;34m()\u001b[0m\n\u001b[1;32m      <a href='vscode-notebook-cell:/Users/cls/Documents/Work/Projects/PrototypeFund/Dev/tuttle/notebooks/walkthrough/03-timetracking-invoicing.ipynb#X61sZmlsZQ%3D%3D?line=0'>1</a>\u001b[0m display\u001b[39m.\u001b[39mHTML(\n\u001b[1;32m      <a href='vscode-notebook-cell:/Users/cls/Documents/Work/Projects/PrototypeFund/Dev/tuttle/notebooks/walkthrough/03-timetracking-invoicing.ipynb#X61sZmlsZQ%3D%3D?line=1'>2</a>\u001b[0m     tuttle\u001b[39m.\u001b[39mrendering\u001b[39m.\u001b[39mrender_timesheet(\n\u001b[0;32m----> <a href='vscode-notebook-cell:/Users/cls/Documents/Work/Projects/PrototypeFund/Dev/tuttle/notebooks/walkthrough/03-timetracking-invoicing.ipynb#X61sZmlsZQ%3D%3D?line=2'>3</a>\u001b[0m         user\u001b[39m=\u001b[39mcontroller\u001b[39m.\u001b[39;49muser,\n\u001b[1;32m      <a href='vscode-notebook-cell:/Users/cls/Documents/Work/Projects/PrototypeFund/Dev/tuttle/notebooks/walkthrough/03-timetracking-invoicing.ipynb#X61sZmlsZQ%3D%3D?line=3'>4</a>\u001b[0m         timesheet\u001b[39m=\u001b[39mmy_timesheet,\n\u001b[1;32m      <a href='vscode-notebook-cell:/Users/cls/Documents/Work/Projects/PrototypeFund/Dev/tuttle/notebooks/walkthrough/03-timetracking-invoicing.ipynb#X61sZmlsZQ%3D%3D?line=4'>5</a>\u001b[0m     )\n\u001b[1;32m      <a href='vscode-notebook-cell:/Users/cls/Documents/Work/Projects/PrototypeFund/Dev/tuttle/notebooks/walkthrough/03-timetracking-invoicing.ipynb#X61sZmlsZQ%3D%3D?line=5'>6</a>\u001b[0m )\n",
      "File \u001b[0;32m~/Documents/Work/Projects/PrototypeFund/Dev/tuttle/tuttle/controller.py:100\u001b[0m, in \u001b[0;36mController.user\u001b[0;34m(self)\u001b[0m\n\u001b[1;32m     98\u001b[0m \u001b[39m@property\u001b[39m\n\u001b[1;32m     99\u001b[0m \u001b[39mdef\u001b[39;00m \u001b[39muser\u001b[39m(\u001b[39mself\u001b[39m):\n\u001b[0;32m--> 100\u001b[0m     user \u001b[39m=\u001b[39m \u001b[39mself\u001b[39;49m\u001b[39m.\u001b[39;49mdb_session\u001b[39m.\u001b[39;49mexec(sqlmodel\u001b[39m.\u001b[39;49mselect(model\u001b[39m.\u001b[39;49mUser))\u001b[39m.\u001b[39mone()\n\u001b[1;32m    101\u001b[0m     \u001b[39mreturn\u001b[39;00m user\n",
      "File \u001b[0;32m~/miniforge3/envs/tuttle-flet/lib/python3.10/site-packages/sqlmodel/orm/session.py:60\u001b[0m, in \u001b[0;36mSession.exec\u001b[0;34m(self, statement, params, execution_options, bind_arguments, _parent_execute_state, _add_event, **kw)\u001b[0m\n\u001b[1;32m     45\u001b[0m \u001b[39mdef\u001b[39;00m \u001b[39mexec\u001b[39m(\n\u001b[1;32m     46\u001b[0m     \u001b[39mself\u001b[39m,\n\u001b[1;32m     47\u001b[0m     statement: Union[\n\u001b[0;32m   (...)\u001b[0m\n\u001b[1;32m     58\u001b[0m     \u001b[39m*\u001b[39m\u001b[39m*\u001b[39mkw: Any,\n\u001b[1;32m     59\u001b[0m ) \u001b[39m-\u001b[39m\u001b[39m>\u001b[39m Union[Result[_TSelectParam], ScalarResult[_TSelectParam]]:\n\u001b[0;32m---> 60\u001b[0m     results \u001b[39m=\u001b[39m \u001b[39msuper\u001b[39;49m()\u001b[39m.\u001b[39;49mexecute(\n\u001b[1;32m     61\u001b[0m         statement,\n\u001b[1;32m     62\u001b[0m         params\u001b[39m=\u001b[39;49mparams,\n\u001b[1;32m     63\u001b[0m         execution_options\u001b[39m=\u001b[39;49mexecution_options,\n\u001b[1;32m     64\u001b[0m         bind_arguments\u001b[39m=\u001b[39;49mbind_arguments,\n\u001b[1;32m     65\u001b[0m         _parent_execute_state\u001b[39m=\u001b[39;49m_parent_execute_state,\n\u001b[1;32m     66\u001b[0m         _add_event\u001b[39m=\u001b[39;49m_add_event,\n\u001b[1;32m     67\u001b[0m         \u001b[39m*\u001b[39;49m\u001b[39m*\u001b[39;49mkw,\n\u001b[1;32m     68\u001b[0m     )\n\u001b[1;32m     69\u001b[0m     \u001b[39mif\u001b[39;00m \u001b[39misinstance\u001b[39m(statement, SelectOfScalar):\n\u001b[1;32m     70\u001b[0m         \u001b[39mreturn\u001b[39;00m results\u001b[39m.\u001b[39mscalars()  \u001b[39m# type: ignore\u001b[39;00m\n",
      "File \u001b[0;32m~/miniforge3/envs/tuttle-flet/lib/python3.10/site-packages/sqlalchemy/orm/session.py:1660\u001b[0m, in \u001b[0;36mSession.execute\u001b[0;34m(self, statement, params, execution_options, bind_arguments, _parent_execute_state, _add_event, **kw)\u001b[0m\n\u001b[1;32m   1654\u001b[0m execution_options \u001b[39m=\u001b[39m util\u001b[39m.\u001b[39mcoerce_to_immutabledict(execution_options)\n\u001b[1;32m   1656\u001b[0m \u001b[39mif\u001b[39;00m compile_state_cls \u001b[39mis\u001b[39;00m \u001b[39mnot\u001b[39;00m \u001b[39mNone\u001b[39;00m:\n\u001b[1;32m   1657\u001b[0m     (\n\u001b[1;32m   1658\u001b[0m         statement,\n\u001b[1;32m   1659\u001b[0m         execution_options,\n\u001b[0;32m-> 1660\u001b[0m     ) \u001b[39m=\u001b[39m compile_state_cls\u001b[39m.\u001b[39;49morm_pre_session_exec(\n\u001b[1;32m   1661\u001b[0m         \u001b[39mself\u001b[39;49m,\n\u001b[1;32m   1662\u001b[0m         statement,\n\u001b[1;32m   1663\u001b[0m         params,\n\u001b[1;32m   1664\u001b[0m         execution_options,\n\u001b[1;32m   1665\u001b[0m         bind_arguments,\n\u001b[1;32m   1666\u001b[0m         _parent_execute_state \u001b[39mis\u001b[39;49;00m \u001b[39mnot\u001b[39;49;00m \u001b[39mNone\u001b[39;49;00m,\n\u001b[1;32m   1667\u001b[0m     )\n\u001b[1;32m   1668\u001b[0m \u001b[39melse\u001b[39;00m:\n\u001b[1;32m   1669\u001b[0m     bind_arguments\u001b[39m.\u001b[39msetdefault(\u001b[39m\"\u001b[39m\u001b[39mclause\u001b[39m\u001b[39m\"\u001b[39m, statement)\n",
      "File \u001b[0;32m~/miniforge3/envs/tuttle-flet/lib/python3.10/site-packages/sqlalchemy/orm/context.py:316\u001b[0m, in \u001b[0;36mORMCompileState.orm_pre_session_exec\u001b[0;34m(cls, session, statement, params, execution_options, bind_arguments, is_reentrant_invoke)\u001b[0m\n\u001b[1;32m    313\u001b[0m         bind_arguments[\u001b[39m\"\u001b[39m\u001b[39mmapper\u001b[39m\u001b[39m\"\u001b[39m] \u001b[39m=\u001b[39m plugin_subject\u001b[39m.\u001b[39mmapper\n\u001b[1;32m    315\u001b[0m \u001b[39mif\u001b[39;00m load_options\u001b[39m.\u001b[39m_autoflush:\n\u001b[0;32m--> 316\u001b[0m     session\u001b[39m.\u001b[39;49m_autoflush()\n\u001b[1;32m    318\u001b[0m \u001b[39mreturn\u001b[39;00m statement, execution_options\n",
      "File \u001b[0;32m~/miniforge3/envs/tuttle-flet/lib/python3.10/site-packages/sqlalchemy/orm/session.py:2257\u001b[0m, in \u001b[0;36mSession._autoflush\u001b[0;34m(self)\u001b[0m\n\u001b[1;32m   2247\u001b[0m \u001b[39mexcept\u001b[39;00m sa_exc\u001b[39m.\u001b[39mStatementError \u001b[39mas\u001b[39;00m e:\n\u001b[1;32m   2248\u001b[0m     \u001b[39m# note we are reraising StatementError as opposed to\u001b[39;00m\n\u001b[1;32m   2249\u001b[0m     \u001b[39m# raising FlushError with \"chaining\" to remain compatible\u001b[39;00m\n\u001b[1;32m   2250\u001b[0m     \u001b[39m# with code that catches StatementError, IntegrityError,\u001b[39;00m\n\u001b[1;32m   2251\u001b[0m     \u001b[39m# etc.\u001b[39;00m\n\u001b[1;32m   2252\u001b[0m     e\u001b[39m.\u001b[39madd_detail(\n\u001b[1;32m   2253\u001b[0m         \u001b[39m\"\u001b[39m\u001b[39mraised as a result of Query-invoked autoflush; \u001b[39m\u001b[39m\"\u001b[39m\n\u001b[1;32m   2254\u001b[0m         \u001b[39m\"\u001b[39m\u001b[39mconsider using a session.no_autoflush block if this \u001b[39m\u001b[39m\"\u001b[39m\n\u001b[1;32m   2255\u001b[0m         \u001b[39m\"\u001b[39m\u001b[39mflush is occurring prematurely\u001b[39m\u001b[39m\"\u001b[39m\n\u001b[1;32m   2256\u001b[0m     )\n\u001b[0;32m-> 2257\u001b[0m     util\u001b[39m.\u001b[39;49mraise_(e, with_traceback\u001b[39m=\u001b[39;49msys\u001b[39m.\u001b[39;49mexc_info()[\u001b[39m2\u001b[39;49m])\n",
      "File \u001b[0;32m~/miniforge3/envs/tuttle-flet/lib/python3.10/site-packages/sqlalchemy/util/compat.py:208\u001b[0m, in \u001b[0;36mraise_\u001b[0;34m(***failed resolving arguments***)\u001b[0m\n\u001b[1;32m    205\u001b[0m     exception\u001b[39m.\u001b[39m__cause__ \u001b[39m=\u001b[39m replace_context\n\u001b[1;32m    207\u001b[0m \u001b[39mtry\u001b[39;00m:\n\u001b[0;32m--> 208\u001b[0m     \u001b[39mraise\u001b[39;00m exception\n\u001b[1;32m    209\u001b[0m \u001b[39mfinally\u001b[39;00m:\n\u001b[1;32m    210\u001b[0m     \u001b[39m# credit to\u001b[39;00m\n\u001b[1;32m    211\u001b[0m     \u001b[39m# https://cosmicpercolator.com/2016/01/13/exception-leaks-in-python-2-and-3/\u001b[39;00m\n\u001b[1;32m    212\u001b[0m     \u001b[39m# as the __traceback__ object creates a cycle\u001b[39;00m\n\u001b[1;32m    213\u001b[0m     \u001b[39mdel\u001b[39;00m exception, replace_context, from_, with_traceback\n",
      "File \u001b[0;32m~/miniforge3/envs/tuttle-flet/lib/python3.10/site-packages/sqlalchemy/orm/session.py:2246\u001b[0m, in \u001b[0;36mSession._autoflush\u001b[0;34m(self)\u001b[0m\n\u001b[1;32m   2244\u001b[0m \u001b[39mif\u001b[39;00m \u001b[39mself\u001b[39m\u001b[39m.\u001b[39mautoflush \u001b[39mand\u001b[39;00m \u001b[39mnot\u001b[39;00m \u001b[39mself\u001b[39m\u001b[39m.\u001b[39m_flushing:\n\u001b[1;32m   2245\u001b[0m     \u001b[39mtry\u001b[39;00m:\n\u001b[0;32m-> 2246\u001b[0m         \u001b[39mself\u001b[39;49m\u001b[39m.\u001b[39;49mflush()\n\u001b[1;32m   2247\u001b[0m     \u001b[39mexcept\u001b[39;00m sa_exc\u001b[39m.\u001b[39mStatementError \u001b[39mas\u001b[39;00m e:\n\u001b[1;32m   2248\u001b[0m         \u001b[39m# note we are reraising StatementError as opposed to\u001b[39;00m\n\u001b[1;32m   2249\u001b[0m         \u001b[39m# raising FlushError with \"chaining\" to remain compatible\u001b[39;00m\n\u001b[1;32m   2250\u001b[0m         \u001b[39m# with code that catches StatementError, IntegrityError,\u001b[39;00m\n\u001b[1;32m   2251\u001b[0m         \u001b[39m# etc.\u001b[39;00m\n\u001b[1;32m   2252\u001b[0m         e\u001b[39m.\u001b[39madd_detail(\n\u001b[1;32m   2253\u001b[0m             \u001b[39m\"\u001b[39m\u001b[39mraised as a result of Query-invoked autoflush; \u001b[39m\u001b[39m\"\u001b[39m\n\u001b[1;32m   2254\u001b[0m             \u001b[39m\"\u001b[39m\u001b[39mconsider using a session.no_autoflush block if this \u001b[39m\u001b[39m\"\u001b[39m\n\u001b[1;32m   2255\u001b[0m             \u001b[39m\"\u001b[39m\u001b[39mflush is occurring prematurely\u001b[39m\u001b[39m\"\u001b[39m\n\u001b[1;32m   2256\u001b[0m         )\n",
      "File \u001b[0;32m~/miniforge3/envs/tuttle-flet/lib/python3.10/site-packages/sqlalchemy/orm/session.py:3383\u001b[0m, in \u001b[0;36mSession.flush\u001b[0;34m(self, objects)\u001b[0m\n\u001b[1;32m   3381\u001b[0m \u001b[39mtry\u001b[39;00m:\n\u001b[1;32m   3382\u001b[0m     \u001b[39mself\u001b[39m\u001b[39m.\u001b[39m_flushing \u001b[39m=\u001b[39m \u001b[39mTrue\u001b[39;00m\n\u001b[0;32m-> 3383\u001b[0m     \u001b[39mself\u001b[39;49m\u001b[39m.\u001b[39;49m_flush(objects)\n\u001b[1;32m   3384\u001b[0m \u001b[39mfinally\u001b[39;00m:\n\u001b[1;32m   3385\u001b[0m     \u001b[39mself\u001b[39m\u001b[39m.\u001b[39m_flushing \u001b[39m=\u001b[39m \u001b[39mFalse\u001b[39;00m\n",
      "File \u001b[0;32m~/miniforge3/envs/tuttle-flet/lib/python3.10/site-packages/sqlalchemy/orm/session.py:3522\u001b[0m, in \u001b[0;36mSession._flush\u001b[0;34m(self, objects)\u001b[0m\n\u001b[1;32m   3519\u001b[0m     transaction\u001b[39m.\u001b[39mcommit()\n\u001b[1;32m   3521\u001b[0m \u001b[39mexcept\u001b[39;00m:\n\u001b[0;32m-> 3522\u001b[0m     \u001b[39mwith\u001b[39;00m util\u001b[39m.\u001b[39msafe_reraise():\n\u001b[1;32m   3523\u001b[0m         transaction\u001b[39m.\u001b[39mrollback(_capture_exception\u001b[39m=\u001b[39m\u001b[39mTrue\u001b[39;00m)\n",
      "File \u001b[0;32m~/miniforge3/envs/tuttle-flet/lib/python3.10/site-packages/sqlalchemy/util/langhelpers.py:70\u001b[0m, in \u001b[0;36msafe_reraise.__exit__\u001b[0;34m(self, type_, value, traceback)\u001b[0m\n\u001b[1;32m     68\u001b[0m     \u001b[39mself\u001b[39m\u001b[39m.\u001b[39m_exc_info \u001b[39m=\u001b[39m \u001b[39mNone\u001b[39;00m  \u001b[39m# remove potential circular references\u001b[39;00m\n\u001b[1;32m     69\u001b[0m     \u001b[39mif\u001b[39;00m \u001b[39mnot\u001b[39;00m \u001b[39mself\u001b[39m\u001b[39m.\u001b[39mwarn_only:\n\u001b[0;32m---> 70\u001b[0m         compat\u001b[39m.\u001b[39;49mraise_(\n\u001b[1;32m     71\u001b[0m             exc_value,\n\u001b[1;32m     72\u001b[0m             with_traceback\u001b[39m=\u001b[39;49mexc_tb,\n\u001b[1;32m     73\u001b[0m         )\n\u001b[1;32m     74\u001b[0m \u001b[39melse\u001b[39;00m:\n\u001b[1;32m     75\u001b[0m     \u001b[39mif\u001b[39;00m \u001b[39mnot\u001b[39;00m compat\u001b[39m.\u001b[39mpy3k \u001b[39mand\u001b[39;00m \u001b[39mself\u001b[39m\u001b[39m.\u001b[39m_exc_info \u001b[39mand\u001b[39;00m \u001b[39mself\u001b[39m\u001b[39m.\u001b[39m_exc_info[\u001b[39m1\u001b[39m]:\n\u001b[1;32m     76\u001b[0m         \u001b[39m# emulate Py3K's behavior of telling us when an exception\u001b[39;00m\n\u001b[1;32m     77\u001b[0m         \u001b[39m# occurs in an exception handler.\u001b[39;00m\n",
      "File \u001b[0;32m~/miniforge3/envs/tuttle-flet/lib/python3.10/site-packages/sqlalchemy/util/compat.py:208\u001b[0m, in \u001b[0;36mraise_\u001b[0;34m(***failed resolving arguments***)\u001b[0m\n\u001b[1;32m    205\u001b[0m     exception\u001b[39m.\u001b[39m__cause__ \u001b[39m=\u001b[39m replace_context\n\u001b[1;32m    207\u001b[0m \u001b[39mtry\u001b[39;00m:\n\u001b[0;32m--> 208\u001b[0m     \u001b[39mraise\u001b[39;00m exception\n\u001b[1;32m    209\u001b[0m \u001b[39mfinally\u001b[39;00m:\n\u001b[1;32m    210\u001b[0m     \u001b[39m# credit to\u001b[39;00m\n\u001b[1;32m    211\u001b[0m     \u001b[39m# https://cosmicpercolator.com/2016/01/13/exception-leaks-in-python-2-and-3/\u001b[39;00m\n\u001b[1;32m    212\u001b[0m     \u001b[39m# as the __traceback__ object creates a cycle\u001b[39;00m\n\u001b[1;32m    213\u001b[0m     \u001b[39mdel\u001b[39;00m exception, replace_context, from_, with_traceback\n",
      "File \u001b[0;32m~/miniforge3/envs/tuttle-flet/lib/python3.10/site-packages/sqlalchemy/orm/session.py:3483\u001b[0m, in \u001b[0;36mSession._flush\u001b[0;34m(self, objects)\u001b[0m\n\u001b[1;32m   3481\u001b[0m \u001b[39mself\u001b[39m\u001b[39m.\u001b[39m_warn_on_events \u001b[39m=\u001b[39m \u001b[39mTrue\u001b[39;00m\n\u001b[1;32m   3482\u001b[0m \u001b[39mtry\u001b[39;00m:\n\u001b[0;32m-> 3483\u001b[0m     flush_context\u001b[39m.\u001b[39;49mexecute()\n\u001b[1;32m   3484\u001b[0m \u001b[39mfinally\u001b[39;00m:\n\u001b[1;32m   3485\u001b[0m     \u001b[39mself\u001b[39m\u001b[39m.\u001b[39m_warn_on_events \u001b[39m=\u001b[39m \u001b[39mFalse\u001b[39;00m\n",
      "File \u001b[0;32m~/miniforge3/envs/tuttle-flet/lib/python3.10/site-packages/sqlalchemy/orm/unitofwork.py:456\u001b[0m, in \u001b[0;36mUOWTransaction.execute\u001b[0;34m(self)\u001b[0m\n\u001b[1;32m    454\u001b[0m \u001b[39melse\u001b[39;00m:\n\u001b[1;32m    455\u001b[0m     \u001b[39mfor\u001b[39;00m rec \u001b[39min\u001b[39;00m topological\u001b[39m.\u001b[39msort(\u001b[39mself\u001b[39m\u001b[39m.\u001b[39mdependencies, postsort_actions):\n\u001b[0;32m--> 456\u001b[0m         rec\u001b[39m.\u001b[39;49mexecute(\u001b[39mself\u001b[39;49m)\n",
      "File \u001b[0;32m~/miniforge3/envs/tuttle-flet/lib/python3.10/site-packages/sqlalchemy/orm/unitofwork.py:630\u001b[0m, in \u001b[0;36mSaveUpdateAll.execute\u001b[0;34m(self, uow)\u001b[0m\n\u001b[1;32m    628\u001b[0m \u001b[39m@util\u001b[39m\u001b[39m.\u001b[39mpreload_module(\u001b[39m\"\u001b[39m\u001b[39msqlalchemy.orm.persistence\u001b[39m\u001b[39m\"\u001b[39m)\n\u001b[1;32m    629\u001b[0m \u001b[39mdef\u001b[39;00m \u001b[39mexecute\u001b[39m(\u001b[39mself\u001b[39m, uow):\n\u001b[0;32m--> 630\u001b[0m     util\u001b[39m.\u001b[39;49mpreloaded\u001b[39m.\u001b[39;49morm_persistence\u001b[39m.\u001b[39;49msave_obj(\n\u001b[1;32m    631\u001b[0m         \u001b[39mself\u001b[39;49m\u001b[39m.\u001b[39;49mmapper,\n\u001b[1;32m    632\u001b[0m         uow\u001b[39m.\u001b[39;49mstates_for_mapper_hierarchy(\u001b[39mself\u001b[39;49m\u001b[39m.\u001b[39;49mmapper, \u001b[39mFalse\u001b[39;49;00m, \u001b[39mFalse\u001b[39;49;00m),\n\u001b[1;32m    633\u001b[0m         uow,\n\u001b[1;32m    634\u001b[0m     )\n",
      "File \u001b[0;32m~/miniforge3/envs/tuttle-flet/lib/python3.10/site-packages/sqlalchemy/orm/persistence.py:245\u001b[0m, in \u001b[0;36msave_obj\u001b[0;34m(base_mapper, states, uowtransaction, single)\u001b[0m\n\u001b[1;32m    233\u001b[0m     update \u001b[39m=\u001b[39m _collect_update_commands(\n\u001b[1;32m    234\u001b[0m         uowtransaction, table, states_to_update\n\u001b[1;32m    235\u001b[0m     )\n\u001b[1;32m    237\u001b[0m     _emit_update_statements(\n\u001b[1;32m    238\u001b[0m         base_mapper,\n\u001b[1;32m    239\u001b[0m         uowtransaction,\n\u001b[0;32m   (...)\u001b[0m\n\u001b[1;32m    242\u001b[0m         update,\n\u001b[1;32m    243\u001b[0m     )\n\u001b[0;32m--> 245\u001b[0m     _emit_insert_statements(\n\u001b[1;32m    246\u001b[0m         base_mapper,\n\u001b[1;32m    247\u001b[0m         uowtransaction,\n\u001b[1;32m    248\u001b[0m         mapper,\n\u001b[1;32m    249\u001b[0m         table,\n\u001b[1;32m    250\u001b[0m         insert,\n\u001b[1;32m    251\u001b[0m     )\n\u001b[1;32m    253\u001b[0m _finalize_insert_update_commands(\n\u001b[1;32m    254\u001b[0m     base_mapper,\n\u001b[1;32m    255\u001b[0m     uowtransaction,\n\u001b[0;32m   (...)\u001b[0m\n\u001b[1;32m    271\u001b[0m     ),\n\u001b[1;32m    272\u001b[0m )\n",
      "File \u001b[0;32m~/miniforge3/envs/tuttle-flet/lib/python3.10/site-packages/sqlalchemy/orm/persistence.py:1238\u001b[0m, in \u001b[0;36m_emit_insert_statements\u001b[0;34m(base_mapper, uowtransaction, mapper, table, insert, bookkeeping)\u001b[0m\n\u001b[1;32m   1232\u001b[0m     result \u001b[39m=\u001b[39m connection\u001b[39m.\u001b[39m_execute_20(\n\u001b[1;32m   1233\u001b[0m         statement\u001b[39m.\u001b[39mvalues(value_params),\n\u001b[1;32m   1234\u001b[0m         params,\n\u001b[1;32m   1235\u001b[0m         execution_options\u001b[39m=\u001b[39mexecution_options,\n\u001b[1;32m   1236\u001b[0m     )\n\u001b[1;32m   1237\u001b[0m \u001b[39melse\u001b[39;00m:\n\u001b[0;32m-> 1238\u001b[0m     result \u001b[39m=\u001b[39m connection\u001b[39m.\u001b[39;49m_execute_20(\n\u001b[1;32m   1239\u001b[0m         statement,\n\u001b[1;32m   1240\u001b[0m         params,\n\u001b[1;32m   1241\u001b[0m         execution_options\u001b[39m=\u001b[39;49mexecution_options,\n\u001b[1;32m   1242\u001b[0m     )\n\u001b[1;32m   1244\u001b[0m primary_key \u001b[39m=\u001b[39m result\u001b[39m.\u001b[39minserted_primary_key\n\u001b[1;32m   1245\u001b[0m \u001b[39mif\u001b[39;00m primary_key \u001b[39mis\u001b[39;00m \u001b[39mNone\u001b[39;00m:\n",
      "File \u001b[0;32m~/miniforge3/envs/tuttle-flet/lib/python3.10/site-packages/sqlalchemy/engine/base.py:1705\u001b[0m, in \u001b[0;36mConnection._execute_20\u001b[0;34m(self, statement, parameters, execution_options)\u001b[0m\n\u001b[1;32m   1701\u001b[0m     util\u001b[39m.\u001b[39mraise_(\n\u001b[1;32m   1702\u001b[0m         exc\u001b[39m.\u001b[39mObjectNotExecutableError(statement), replace_context\u001b[39m=\u001b[39merr\n\u001b[1;32m   1703\u001b[0m     )\n\u001b[1;32m   1704\u001b[0m \u001b[39melse\u001b[39;00m:\n\u001b[0;32m-> 1705\u001b[0m     \u001b[39mreturn\u001b[39;00m meth(\u001b[39mself\u001b[39;49m, args_10style, kwargs_10style, execution_options)\n",
      "File \u001b[0;32m~/miniforge3/envs/tuttle-flet/lib/python3.10/site-packages/sqlalchemy/sql/elements.py:333\u001b[0m, in \u001b[0;36mClauseElement._execute_on_connection\u001b[0;34m(self, connection, multiparams, params, execution_options, _force)\u001b[0m\n\u001b[1;32m    329\u001b[0m \u001b[39mdef\u001b[39;00m \u001b[39m_execute_on_connection\u001b[39m(\n\u001b[1;32m    330\u001b[0m     \u001b[39mself\u001b[39m, connection, multiparams, params, execution_options, _force\u001b[39m=\u001b[39m\u001b[39mFalse\u001b[39;00m\n\u001b[1;32m    331\u001b[0m ):\n\u001b[1;32m    332\u001b[0m     \u001b[39mif\u001b[39;00m _force \u001b[39mor\u001b[39;00m \u001b[39mself\u001b[39m\u001b[39m.\u001b[39msupports_execution:\n\u001b[0;32m--> 333\u001b[0m         \u001b[39mreturn\u001b[39;00m connection\u001b[39m.\u001b[39;49m_execute_clauseelement(\n\u001b[1;32m    334\u001b[0m             \u001b[39mself\u001b[39;49m, multiparams, params, execution_options\n\u001b[1;32m    335\u001b[0m         )\n\u001b[1;32m    336\u001b[0m     \u001b[39melse\u001b[39;00m:\n\u001b[1;32m    337\u001b[0m         \u001b[39mraise\u001b[39;00m exc\u001b[39m.\u001b[39mObjectNotExecutableError(\u001b[39mself\u001b[39m)\n",
      "File \u001b[0;32m~/miniforge3/envs/tuttle-flet/lib/python3.10/site-packages/sqlalchemy/engine/base.py:1572\u001b[0m, in \u001b[0;36mConnection._execute_clauseelement\u001b[0;34m(self, elem, multiparams, params, execution_options)\u001b[0m\n\u001b[1;32m   1560\u001b[0m compiled_cache \u001b[39m=\u001b[39m execution_options\u001b[39m.\u001b[39mget(\n\u001b[1;32m   1561\u001b[0m     \u001b[39m\"\u001b[39m\u001b[39mcompiled_cache\u001b[39m\u001b[39m\"\u001b[39m, \u001b[39mself\u001b[39m\u001b[39m.\u001b[39mengine\u001b[39m.\u001b[39m_compiled_cache\n\u001b[1;32m   1562\u001b[0m )\n\u001b[1;32m   1564\u001b[0m compiled_sql, extracted_params, cache_hit \u001b[39m=\u001b[39m elem\u001b[39m.\u001b[39m_compile_w_cache(\n\u001b[1;32m   1565\u001b[0m     dialect\u001b[39m=\u001b[39mdialect,\n\u001b[1;32m   1566\u001b[0m     compiled_cache\u001b[39m=\u001b[39mcompiled_cache,\n\u001b[0;32m   (...)\u001b[0m\n\u001b[1;32m   1570\u001b[0m     linting\u001b[39m=\u001b[39m\u001b[39mself\u001b[39m\u001b[39m.\u001b[39mdialect\u001b[39m.\u001b[39mcompiler_linting \u001b[39m|\u001b[39m compiler\u001b[39m.\u001b[39mWARN_LINTING,\n\u001b[1;32m   1571\u001b[0m )\n\u001b[0;32m-> 1572\u001b[0m ret \u001b[39m=\u001b[39m \u001b[39mself\u001b[39;49m\u001b[39m.\u001b[39;49m_execute_context(\n\u001b[1;32m   1573\u001b[0m     dialect,\n\u001b[1;32m   1574\u001b[0m     dialect\u001b[39m.\u001b[39;49mexecution_ctx_cls\u001b[39m.\u001b[39;49m_init_compiled,\n\u001b[1;32m   1575\u001b[0m     compiled_sql,\n\u001b[1;32m   1576\u001b[0m     distilled_params,\n\u001b[1;32m   1577\u001b[0m     execution_options,\n\u001b[1;32m   1578\u001b[0m     compiled_sql,\n\u001b[1;32m   1579\u001b[0m     distilled_params,\n\u001b[1;32m   1580\u001b[0m     elem,\n\u001b[1;32m   1581\u001b[0m     extracted_params,\n\u001b[1;32m   1582\u001b[0m     cache_hit\u001b[39m=\u001b[39;49mcache_hit,\n\u001b[1;32m   1583\u001b[0m )\n\u001b[1;32m   1584\u001b[0m \u001b[39mif\u001b[39;00m has_events:\n\u001b[1;32m   1585\u001b[0m     \u001b[39mself\u001b[39m\u001b[39m.\u001b[39mdispatch\u001b[39m.\u001b[39mafter_execute(\n\u001b[1;32m   1586\u001b[0m         \u001b[39mself\u001b[39m,\n\u001b[1;32m   1587\u001b[0m         elem,\n\u001b[0;32m   (...)\u001b[0m\n\u001b[1;32m   1591\u001b[0m         ret,\n\u001b[1;32m   1592\u001b[0m     )\n",
      "File \u001b[0;32m~/miniforge3/envs/tuttle-flet/lib/python3.10/site-packages/sqlalchemy/engine/base.py:1943\u001b[0m, in \u001b[0;36mConnection._execute_context\u001b[0;34m(self, dialect, constructor, statement, parameters, execution_options, *args, **kw)\u001b[0m\n\u001b[1;32m   1940\u001b[0m             branched\u001b[39m.\u001b[39mclose()\n\u001b[1;32m   1942\u001b[0m \u001b[39mexcept\u001b[39;00m \u001b[39mBaseException\u001b[39;00m \u001b[39mas\u001b[39;00m e:\n\u001b[0;32m-> 1943\u001b[0m     \u001b[39mself\u001b[39;49m\u001b[39m.\u001b[39;49m_handle_dbapi_exception(\n\u001b[1;32m   1944\u001b[0m         e, statement, parameters, cursor, context\n\u001b[1;32m   1945\u001b[0m     )\n\u001b[1;32m   1947\u001b[0m \u001b[39mreturn\u001b[39;00m result\n",
      "File \u001b[0;32m~/miniforge3/envs/tuttle-flet/lib/python3.10/site-packages/sqlalchemy/engine/base.py:2124\u001b[0m, in \u001b[0;36mConnection._handle_dbapi_exception\u001b[0;34m(self, e, statement, parameters, cursor, context)\u001b[0m\n\u001b[1;32m   2122\u001b[0m     util\u001b[39m.\u001b[39mraise_(newraise, with_traceback\u001b[39m=\u001b[39mexc_info[\u001b[39m2\u001b[39m], from_\u001b[39m=\u001b[39me)\n\u001b[1;32m   2123\u001b[0m \u001b[39melif\u001b[39;00m should_wrap:\n\u001b[0;32m-> 2124\u001b[0m     util\u001b[39m.\u001b[39;49mraise_(\n\u001b[1;32m   2125\u001b[0m         sqlalchemy_exception, with_traceback\u001b[39m=\u001b[39;49mexc_info[\u001b[39m2\u001b[39;49m], from_\u001b[39m=\u001b[39;49me\n\u001b[1;32m   2126\u001b[0m     )\n\u001b[1;32m   2127\u001b[0m \u001b[39melse\u001b[39;00m:\n\u001b[1;32m   2128\u001b[0m     util\u001b[39m.\u001b[39mraise_(exc_info[\u001b[39m1\u001b[39m], with_traceback\u001b[39m=\u001b[39mexc_info[\u001b[39m2\u001b[39m])\n",
      "File \u001b[0;32m~/miniforge3/envs/tuttle-flet/lib/python3.10/site-packages/sqlalchemy/util/compat.py:208\u001b[0m, in \u001b[0;36mraise_\u001b[0;34m(***failed resolving arguments***)\u001b[0m\n\u001b[1;32m    205\u001b[0m     exception\u001b[39m.\u001b[39m__cause__ \u001b[39m=\u001b[39m replace_context\n\u001b[1;32m    207\u001b[0m \u001b[39mtry\u001b[39;00m:\n\u001b[0;32m--> 208\u001b[0m     \u001b[39mraise\u001b[39;00m exception\n\u001b[1;32m    209\u001b[0m \u001b[39mfinally\u001b[39;00m:\n\u001b[1;32m    210\u001b[0m     \u001b[39m# credit to\u001b[39;00m\n\u001b[1;32m    211\u001b[0m     \u001b[39m# https://cosmicpercolator.com/2016/01/13/exception-leaks-in-python-2-and-3/\u001b[39;00m\n\u001b[1;32m    212\u001b[0m     \u001b[39m# as the __traceback__ object creates a cycle\u001b[39;00m\n\u001b[1;32m    213\u001b[0m     \u001b[39mdel\u001b[39;00m exception, replace_context, from_, with_traceback\n",
      "File \u001b[0;32m~/miniforge3/envs/tuttle-flet/lib/python3.10/site-packages/sqlalchemy/engine/base.py:1900\u001b[0m, in \u001b[0;36mConnection._execute_context\u001b[0;34m(self, dialect, constructor, statement, parameters, execution_options, *args, **kw)\u001b[0m\n\u001b[1;32m   1898\u001b[0m                 \u001b[39mbreak\u001b[39;00m\n\u001b[1;32m   1899\u001b[0m     \u001b[39mif\u001b[39;00m \u001b[39mnot\u001b[39;00m evt_handled:\n\u001b[0;32m-> 1900\u001b[0m         \u001b[39mself\u001b[39;49m\u001b[39m.\u001b[39;49mdialect\u001b[39m.\u001b[39;49mdo_execute(\n\u001b[1;32m   1901\u001b[0m             cursor, statement, parameters, context\n\u001b[1;32m   1902\u001b[0m         )\n\u001b[1;32m   1904\u001b[0m \u001b[39mif\u001b[39;00m \u001b[39mself\u001b[39m\u001b[39m.\u001b[39m_has_events \u001b[39mor\u001b[39;00m \u001b[39mself\u001b[39m\u001b[39m.\u001b[39mengine\u001b[39m.\u001b[39m_has_events:\n\u001b[1;32m   1905\u001b[0m     \u001b[39mself\u001b[39m\u001b[39m.\u001b[39mdispatch\u001b[39m.\u001b[39mafter_cursor_execute(\n\u001b[1;32m   1906\u001b[0m         \u001b[39mself\u001b[39m,\n\u001b[1;32m   1907\u001b[0m         cursor,\n\u001b[0;32m   (...)\u001b[0m\n\u001b[1;32m   1911\u001b[0m         context\u001b[39m.\u001b[39mexecutemany,\n\u001b[1;32m   1912\u001b[0m     )\n",
      "File \u001b[0;32m~/miniforge3/envs/tuttle-flet/lib/python3.10/site-packages/sqlalchemy/engine/default.py:732\u001b[0m, in \u001b[0;36mDefaultDialect.do_execute\u001b[0;34m(self, cursor, statement, parameters, context)\u001b[0m\n\u001b[1;32m    731\u001b[0m \u001b[39mdef\u001b[39;00m \u001b[39mdo_execute\u001b[39m(\u001b[39mself\u001b[39m, cursor, statement, parameters, context\u001b[39m=\u001b[39m\u001b[39mNone\u001b[39;00m):\n\u001b[0;32m--> 732\u001b[0m     cursor\u001b[39m.\u001b[39;49mexecute(statement, parameters)\n",
      "\u001b[0;31mIntegrityError\u001b[0m: (raised as a result of Query-invoked autoflush; consider using a session.no_autoflush block if this flush is occurring prematurely)\n(sqlite3.IntegrityError) NOT NULL constraint failed: timesheet.period\n[SQL: INSERT INTO timesheet (title, date, period, project_id, comment) VALUES (?, ?, ?, ?, ?)]\n[parameters: ('Heating Repair - February 2022 - March 2022', '2022-09-07', None, 1, '')]\n(Background on this error at: https://sqlalche.me/e/14/gkpj)"
     ]
    }
   ],
   "source": [
    "display.HTML(\n",
    "    tuttle.rendering.render_timesheet(\n",
    "        user=controller.user,\n",
    "        timesheet=my_timesheet,\n",
    "    )\n",
    ")"
   ]
  },
  {
   "cell_type": "markdown",
   "id": "3adfb18d-20f6-42e5-82b5-3b276bf226c3",
   "metadata": {
    "tags": []
   },
   "source": [
    "... or render it to a file:"
   ]
  },
  {
   "cell_type": "markdown",
   "id": "31e0c2ba-04c6-4745-8042-2e68d47c09f4",
   "metadata": {
    "tags": []
   },
   "source": [
    "_Set the path to a folder where you want your invoices to appear_:"
   ]
  },
  {
   "cell_type": "code",
   "execution_count": null,
   "id": "0526c84e-955c-4337-a025-dfbdd24c458f",
   "metadata": {},
   "outputs": [],
   "source": [
    "timesheet_dir = Path.home() / \"Downloads\""
   ]
  },
  {
   "cell_type": "code",
   "execution_count": null,
   "id": "53200a33-235c-482e-9399-cbce1d83a0a9",
   "metadata": {},
   "outputs": [],
   "source": [
    "tuttle.rendering.render_timesheet(\n",
    "    user=controller.user,\n",
    "    timesheet=my_timesheet,\n",
    "    style=\"anvil\",\n",
    "    out_dir=timesheet_dir,\n",
    ")"
   ]
  },
  {
   "cell_type": "markdown",
   "id": "8a73369f-e18c-4475-b870-f313abf98124",
   "metadata": {},
   "source": [
    "This will create a folder named with the timesheet title, containing the timesheet as an HTML document."
   ]
  },
  {
   "cell_type": "code",
   "execution_count": null,
   "id": "1bbeff8e-4c1c-42f6-b2a3-190bb6718a0f",
   "metadata": {},
   "outputs": [],
   "source": [
    "timesheet_path = str(timesheet_dir / f\"Invoice-{my_timesheet.title}\" / f\"Timesheet-{my_timesheet.title}.html\")"
   ]
  },
  {
   "cell_type": "markdown",
   "id": "92ef3025-2a90-4d59-88fe-01a750c3a2f7",
   "metadata": {},
   "source": [
    "You can also render the timesheet to PDF. For now, this requires the native [wkhtmltopdf](https://wkhtmltopdf.org) tool to be installed."
   ]
  },
  {
   "cell_type": "code",
   "execution_count": null,
   "id": "4e7234aa-92fe-4c45-93b6-51f02de7c69f",
   "metadata": {},
   "outputs": [],
   "source": [
    "tuttle.rendering.render_timesheet(\n",
    "    user=controller.user,\n",
    "    timesheet=my_timesheet,\n",
    "    style=\"anvil\",\n",
    "    out_dir=timesheet_dir,\n",
    "    document_format=\"pdf\",\n",
    ")"
   ]
  },
  {
   "cell_type": "markdown",
   "id": "f944d2f1-70a0-4c70-9f41-90971df1efdf",
   "metadata": {
    "tags": []
   },
   "source": [
    "## Invoicing"
   ]
  },
  {
   "cell_type": "markdown",
   "id": "573fd7ad-7ecf-49af-9dca-390588ba8218",
   "metadata": {},
   "source": [
    "Now that we have set up our user info, clients, contracts and projects, as well as a source for time tracking data, we are ready to automatically generate invoices."
   ]
  },
  {
   "cell_type": "markdown",
   "id": "024b05b8-073c-4c2b-8660-ca9e67140085",
   "metadata": {},
   "source": [
    "### Workflow"
   ]
  },
  {
   "cell_type": "markdown",
   "id": "73c3aa31-99e2-42f3-b9bb-867013a915d3",
   "metadata": {},
   "source": [
    "_1. Select a project_"
   ]
  },
  {
   "cell_type": "markdown",
   "id": "657efc76-9569-4502-a7cc-60ccb247a56a",
   "metadata": {},
   "source": [
    "**Example**"
   ]
  },
  {
   "cell_type": "code",
   "execution_count": null,
   "id": "539f0488-b060-4dcd-bb2e-94c2bbc1f45d",
   "metadata": {},
   "outputs": [],
   "source": [
    "my_project = controller.get_project(title=\"Heating Repair\")"
   ]
  },
  {
   "cell_type": "markdown",
   "id": "8e7fe759-3a5d-4dea-a622-78bd43eca01e",
   "metadata": {},
   "source": [
    "2. Generate an invoice for one or more timesheet(s)."
   ]
  },
  {
   "cell_type": "markdown",
   "id": "258cd1d9-9e57-42e8-92ad-7651dd3b1c34",
   "metadata": {},
   "source": [
    "**Example**"
   ]
  },
  {
   "cell_type": "code",
   "execution_count": null,
   "id": "cd1b85d5-1af3-46e4-b799-348ab439d1cd",
   "metadata": {},
   "outputs": [],
   "source": [
    "my_invoice = tuttle.invoicing.generate_invoice(\n",
    "    timesheets=[\n",
    "        my_timesheet,\n",
    "    ],\n",
    "    contract=my_project.contract,\n",
    "    date=datetime.date.today(),\n",
    ")"
   ]
  },
  {
   "cell_type": "code",
   "execution_count": null,
   "id": "f7b620cf-94b6-446b-a072-4df4eed90bab",
   "metadata": {},
   "outputs": [],
   "source": [
    "my_invoice.number"
   ]
  },
  {
   "cell_type": "code",
   "execution_count": null,
   "id": "66c0d24c-f7dd-44f0-9844-ed8959d72090",
   "metadata": {},
   "outputs": [],
   "source": [
    "my_invoice.total"
   ]
  },
  {
   "cell_type": "markdown",
   "id": "1556e29f-df9e-407b-8d03-d2eeb93b98e7",
   "metadata": {},
   "source": [
    "5. Render the invoice to a document template:"
   ]
  },
  {
   "cell_type": "markdown",
   "id": "c8f5d33f-0172-490b-8774-ddda47657269",
   "metadata": {},
   "source": [
    "You can display the HTML in the notebook..."
   ]
  },
  {
   "cell_type": "code",
   "execution_count": null,
   "id": "cd7b5778-d4c4-437b-b286-5a5e5328ad8c",
   "metadata": {},
   "outputs": [],
   "source": [
    "display.HTML(\n",
    "    tuttle.rendering.render_invoice(\n",
    "        user=controller.user, \n",
    "        invoice=my_invoice,\n",
    "        style=None\n",
    "    )\n",
    ")"
   ]
  },
  {
   "cell_type": "markdown",
   "id": "a9b4ba00-535b-4d69-9c19-7b5238bc89e3",
   "metadata": {
    "tags": []
   },
   "source": [
    "... or render it to a file:"
   ]
  },
  {
   "cell_type": "markdown",
   "id": "c5cb2a3e-f5d6-4696-87b8-82b73d8ba47d",
   "metadata": {
    "tags": []
   },
   "source": [
    "_Set the path to a folder where you want your invoices to appear_:"
   ]
  },
  {
   "cell_type": "code",
   "execution_count": null,
   "id": "0b5e84d5-ef60-47f6-a039-3e91b7794dab",
   "metadata": {},
   "outputs": [],
   "source": [
    "invoice_dir = Path.home() / \"Downloads\""
   ]
  },
  {
   "cell_type": "code",
   "execution_count": null,
   "id": "425bab2f-30b7-49f7-9ea9-a93012befa78",
   "metadata": {},
   "outputs": [],
   "source": [
    "tuttle.rendering.render_invoice(\n",
    "    user=controller.user, \n",
    "    invoice=my_invoice,\n",
    "    style=\"anvil\",\n",
    "    out_dir=invoice_dir,\n",
    ")"
   ]
  },
  {
   "cell_type": "markdown",
   "id": "9346ab61-8409-4c5f-9dba-24c2574b6ae1",
   "metadata": {},
   "source": [
    "This will create a folder named with the inovice number, containing the invoice as an HTML document."
   ]
  },
  {
   "cell_type": "code",
   "execution_count": null,
   "id": "eefcc6ef-0b46-4193-9d0d-ab477a78bec8",
   "metadata": {},
   "outputs": [],
   "source": [
    "invoice_path = str(invoice_dir / f\"Invoice-{my_invoice.number}\" / f\"Invoice-{my_invoice.number}.html\")"
   ]
  },
  {
   "cell_type": "markdown",
   "id": "ffd83af8-ecc5-4772-b5ad-d2d3eaa7dad0",
   "metadata": {},
   "source": [
    "_Your turn:_"
   ]
  },
  {
   "cell_type": "code",
   "execution_count": null,
   "id": "a5772130-2652-421a-92a4-d0f821abcbd1",
   "metadata": {},
   "outputs": [],
   "source": []
  },
  {
   "cell_type": "markdown",
   "id": "88c1e9db-4d26-47e7-baf0-157b9a949e9d",
   "metadata": {},
   "source": [
    "You can also render the invoice to PDF. For now, this requires the native [wkhtmltopdf](https://wkhtmltopdf.org) tool to be installed."
   ]
  },
  {
   "cell_type": "code",
   "execution_count": null,
   "id": "704bf849-297d-4afb-a0e7-d5e266b4e15b",
   "metadata": {},
   "outputs": [],
   "source": [
    "tuttle.rendering.render_invoice(\n",
    "    user=controller.user, \n",
    "    invoice=my_invoice,\n",
    "    style=\"anvil\",\n",
    "    out_dir=invoice_dir,\n",
    "    document_format=\"pdf\"\n",
    ")"
   ]
  },
  {
   "cell_type": "markdown",
   "id": "254b2b91-335e-465c-9af3-3fc6117d8bf9",
   "metadata": {},
   "source": [
    "### Send the Invoice Automatically"
   ]
  },
  {
   "cell_type": "markdown",
   "id": "4238c979-1fde-481a-a5cf-ae8668b0de36",
   "metadata": {},
   "source": [
    "![](img/underconstruction.jpg)"
   ]
  },
  {
   "cell_type": "markdown",
   "id": "4ce261b8-1ac7-4229-9477-c072f0ab3164",
   "metadata": {},
   "source": [
    "------"
   ]
  }
 ],
 "metadata": {
  "kernelspec": {
   "display_name": "Python 3.10.5 ('tuttle-flet')",
   "language": "python",
   "name": "python3"
  },
  "language_info": {
   "codemirror_mode": {
    "name": "ipython",
    "version": 3
   },
   "file_extension": ".py",
   "mimetype": "text/x-python",
   "name": "python",
   "nbconvert_exporter": "python",
   "pygments_lexer": "ipython3",
   "version": "3.10.5"
  },
  "vscode": {
   "interpreter": {
    "hash": "5727a89f8f4826e6ce3fb9da18a08727b274ba76880924157270e222bba4a1ac"
   }
  }
 },
 "nbformat": 4,
 "nbformat_minor": 5
}
